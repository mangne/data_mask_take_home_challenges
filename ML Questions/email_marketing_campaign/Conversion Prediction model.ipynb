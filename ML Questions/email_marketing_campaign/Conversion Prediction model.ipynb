{
 "cells": [
  {
   "cell_type": "code",
   "execution_count": 1,
   "metadata": {},
   "outputs": [],
   "source": [
    "import pandas as pd\n",
    "import numpy as np\n",
    "\n",
    "import matplotlib.pyplot as plt\n",
    "import seaborn as sns\n",
    "%matplotlib inline\n"
   ]
  },
  {
   "cell_type": "code",
   "execution_count": 2,
   "metadata": {},
   "outputs": [],
   "source": [
    "from sklearn.dummy import DummyClassifier\n",
    "from sklearn.linear_model import LogisticRegression\n",
    "from sklearn.ensemble import RandomForestClassifier, GradientBoostingClassifier, BaggingClassifier\n",
    "from sklearn.ensemble import ExtraTreesClassifier\n",
    "from sklearn.neighbors import KNeighborsClassifier\n",
    "from xgboost import XGBClassifier\n",
    "from lightgbm import LGBMClassifier\n",
    "from sklearn.svm import SVC"
   ]
  },
  {
   "cell_type": "code",
   "execution_count": 31,
   "metadata": {},
   "outputs": [],
   "source": [
    "from sklearn.metrics import precision_recall_curve, auc, confusion_matrix, classification_report, make_scorer\n",
    "from numpy import mean, std\n",
    "from sklearn.metrics import roc_curve, roc_auc_score\n",
    "\n",
    "from sklearn.model_selection import cross_val_score, train_test_split, RepeatedStratifiedKFold, GridSearchCV\n",
    "from sklearn.preprocessing import StandardScaler, Normalizer, LabelEncoder"
   ]
  },
  {
   "cell_type": "code",
   "execution_count": 155,
   "metadata": {},
   "outputs": [],
   "source": [
    "email_data = pd.read_csv('all_data.csv').drop('Unnamed: 0', axis = 1)"
   ]
  },
  {
   "cell_type": "markdown",
   "metadata": {},
   "source": [
    "The EDA part of this data has already been done\n",
    "We will move forward with the modeling part"
   ]
  },
  {
   "cell_type": "code",
   "execution_count": 6,
   "metadata": {},
   "outputs": [],
   "source": [
    "le_et = LabelEncoder()\n",
    "le_ev = LabelEncoder()\n",
    "le_wd = LabelEncoder()\n",
    "le_uc = LabelEncoder()\n",
    "\n",
    "\n",
    "dummy = email_data.drop('email_id', axis = 1).copy()\n",
    "dummy['email_text'] = le_et.fit_transform(dummy['email_text'])\n",
    "dummy['email_version'] = le_ev.fit_transform(dummy['email_version'])\n",
    "dummy['weekday'] = le_wd.fit_transform(dummy['weekday'])\n",
    "dummy['user_country'] = le_uc.fit_transform(dummy['user_country'])\n"
   ]
  },
  {
   "cell_type": "code",
   "execution_count": 7,
   "metadata": {},
   "outputs": [
    {
     "data": {
      "text/html": [
       "<div>\n",
       "<style scoped>\n",
       "    .dataframe tbody tr th:only-of-type {\n",
       "        vertical-align: middle;\n",
       "    }\n",
       "\n",
       "    .dataframe tbody tr th {\n",
       "        vertical-align: top;\n",
       "    }\n",
       "\n",
       "    .dataframe thead th {\n",
       "        text-align: right;\n",
       "    }\n",
       "</style>\n",
       "<table border=\"1\" class=\"dataframe\">\n",
       "  <thead>\n",
       "    <tr style=\"text-align: right;\">\n",
       "      <th></th>\n",
       "      <th>email_text</th>\n",
       "      <th>email_version</th>\n",
       "      <th>hour</th>\n",
       "      <th>weekday</th>\n",
       "      <th>user_country</th>\n",
       "      <th>user_past_purchases</th>\n",
       "      <th>Opened</th>\n",
       "      <th>Clicked</th>\n",
       "    </tr>\n",
       "  </thead>\n",
       "  <tbody>\n",
       "    <tr>\n",
       "      <th>0</th>\n",
       "      <td>1</td>\n",
       "      <td>1</td>\n",
       "      <td>2</td>\n",
       "      <td>3</td>\n",
       "      <td>3</td>\n",
       "      <td>5</td>\n",
       "      <td>0</td>\n",
       "      <td>0</td>\n",
       "    </tr>\n",
       "    <tr>\n",
       "      <th>1</th>\n",
       "      <td>0</td>\n",
       "      <td>1</td>\n",
       "      <td>12</td>\n",
       "      <td>3</td>\n",
       "      <td>2</td>\n",
       "      <td>2</td>\n",
       "      <td>1</td>\n",
       "      <td>1</td>\n",
       "    </tr>\n",
       "    <tr>\n",
       "      <th>2</th>\n",
       "      <td>0</td>\n",
       "      <td>1</td>\n",
       "      <td>11</td>\n",
       "      <td>6</td>\n",
       "      <td>3</td>\n",
       "      <td>2</td>\n",
       "      <td>0</td>\n",
       "      <td>0</td>\n",
       "    </tr>\n",
       "    <tr>\n",
       "      <th>3</th>\n",
       "      <td>1</td>\n",
       "      <td>0</td>\n",
       "      <td>6</td>\n",
       "      <td>1</td>\n",
       "      <td>2</td>\n",
       "      <td>1</td>\n",
       "      <td>0</td>\n",
       "      <td>0</td>\n",
       "    </tr>\n",
       "    <tr>\n",
       "      <th>4</th>\n",
       "      <td>0</td>\n",
       "      <td>0</td>\n",
       "      <td>14</td>\n",
       "      <td>1</td>\n",
       "      <td>3</td>\n",
       "      <td>6</td>\n",
       "      <td>0</td>\n",
       "      <td>0</td>\n",
       "    </tr>\n",
       "  </tbody>\n",
       "</table>\n",
       "</div>"
      ],
      "text/plain": [
       "   email_text  email_version  hour  weekday  user_country  \\\n",
       "0           1              1     2        3             3   \n",
       "1           0              1    12        3             2   \n",
       "2           0              1    11        6             3   \n",
       "3           1              0     6        1             2   \n",
       "4           0              0    14        1             3   \n",
       "\n",
       "   user_past_purchases  Opened  Clicked  \n",
       "0                    5       0        0  \n",
       "1                    2       1        1  \n",
       "2                    2       0        0  \n",
       "3                    1       0        0  \n",
       "4                    6       0        0  "
      ]
     },
     "execution_count": 7,
     "metadata": {},
     "output_type": "execute_result"
    }
   ],
   "source": [
    "dummy.head()"
   ]
  },
  {
   "cell_type": "code",
   "execution_count": 8,
   "metadata": {},
   "outputs": [
    {
     "data": {
      "text/plain": [
       "[Text(0.5, 0, 'email_text'),\n",
       " Text(1.5, 0, 'email_version'),\n",
       " Text(2.5, 0, 'hour'),\n",
       " Text(3.5, 0, 'weekday'),\n",
       " Text(4.5, 0, 'user_country'),\n",
       " Text(5.5, 0, 'user_past_purchases'),\n",
       " Text(6.5, 0, 'Opened'),\n",
       " Text(7.5, 0, 'Clicked')]"
      ]
     },
     "execution_count": 8,
     "metadata": {},
     "output_type": "execute_result"
    },
    {
     "data": {
      "image/png": "[encoded data removed]",
      "text/plain": [
       "<Figure size 864x576 with 2 Axes>"
      ]
     },
     "metadata": {
      "needs_background": "light"
     },
     "output_type": "display_data"
    }
   ],
   "source": [
    "corr = dummy.corr()\n",
    "plt.figure(figsize = (12, 8))\n",
    "ax = sns.heatmap(corr, annot = True, vmin=-1, vmax=1, center=0, cmap=sns.diverging_palette(20, 220, n=200))\n",
    "ax.set_xticklabels(ax.get_xticklabels(),rotation=45,horizontalalignment='right')"
   ]
  },
  {
   "cell_type": "markdown",
   "metadata": {},
   "source": [
    "good to go!"
   ]
  },
  {
   "cell_type": "markdown",
   "metadata": {},
   "source": [
    "we will\n",
    "1. Divide our data into features and target variables\n",
    "2. Select an evaluation metric to choose from the models: in this case since both the false positive and true positives are important: we will use ROC AUC(class probabilities); for comparison we will use F1-Measure(class labels)\n",
    "3. Define the evaluation method and score using the metrics\n",
    "4. build a array of models to pass into this evalution methods and store the scores\n",
    "5. Choose top 3-4 models and apply imbalance handling techniques\n",
    "6. See the results (confusion matrix) and decide optimum threshold\n",
    "7. further tune the models"
   ]
  },
  {
   "cell_type": "code",
   "execution_count": 5,
   "metadata": {},
   "outputs": [],
   "source": [
    "data_dummy = pd.get_dummies(email_data.drop('email_id', axis = 1), drop_first = True).copy()\n",
    "X = data_dummy.drop(['Opened', 'Clicked'], axis = 1)\n",
    "y = data_dummy['Clicked']"
   ]
  },
  {
   "cell_type": "code",
   "execution_count": 10,
   "metadata": {},
   "outputs": [],
   "source": [
    "def evaluate_model(X, y, model):\n",
    "    cv = RepeatedStratifiedKFold(n_splits = 10, n_repeats=3, random_state = 0)\n",
    "    score = cross_val_score(model, X, y, cv = cv, scoring = 'roc_auc', n_jobs = -1)\n",
    "    return score"
   ]
  },
  {
   "cell_type": "code",
   "execution_count": 11,
   "metadata": {},
   "outputs": [
    {
     "data": {
      "text/html": [
       "<div>\n",
       "<style scoped>\n",
       "    .dataframe tbody tr th:only-of-type {\n",
       "        vertical-align: middle;\n",
       "    }\n",
       "\n",
       "    .dataframe tbody tr th {\n",
       "        vertical-align: top;\n",
       "    }\n",
       "\n",
       "    .dataframe thead th {\n",
       "        text-align: right;\n",
       "    }\n",
       "</style>\n",
       "<table border=\"1\" class=\"dataframe\">\n",
       "  <thead>\n",
       "    <tr style=\"text-align: right;\">\n",
       "      <th></th>\n",
       "      <th>hour</th>\n",
       "      <th>user_past_purchases</th>\n",
       "      <th>email_text_short_email</th>\n",
       "      <th>email_version_personalized</th>\n",
       "      <th>weekday_Monday</th>\n",
       "      <th>weekday_Saturday</th>\n",
       "      <th>weekday_Sunday</th>\n",
       "      <th>weekday_Thursday</th>\n",
       "      <th>weekday_Tuesday</th>\n",
       "      <th>weekday_Wednesday</th>\n",
       "      <th>user_country_FR</th>\n",
       "      <th>user_country_UK</th>\n",
       "      <th>user_country_US</th>\n",
       "    </tr>\n",
       "  </thead>\n",
       "  <tbody>\n",
       "    <tr>\n",
       "      <th>0</th>\n",
       "      <td>2</td>\n",
       "      <td>5</td>\n",
       "      <td>1</td>\n",
       "      <td>1</td>\n",
       "      <td>0</td>\n",
       "      <td>0</td>\n",
       "      <td>1</td>\n",
       "      <td>0</td>\n",
       "      <td>0</td>\n",
       "      <td>0</td>\n",
       "      <td>0</td>\n",
       "      <td>0</td>\n",
       "      <td>1</td>\n",
       "    </tr>\n",
       "    <tr>\n",
       "      <th>1</th>\n",
       "      <td>12</td>\n",
       "      <td>2</td>\n",
       "      <td>0</td>\n",
       "      <td>1</td>\n",
       "      <td>0</td>\n",
       "      <td>0</td>\n",
       "      <td>1</td>\n",
       "      <td>0</td>\n",
       "      <td>0</td>\n",
       "      <td>0</td>\n",
       "      <td>0</td>\n",
       "      <td>1</td>\n",
       "      <td>0</td>\n",
       "    </tr>\n",
       "    <tr>\n",
       "      <th>2</th>\n",
       "      <td>11</td>\n",
       "      <td>2</td>\n",
       "      <td>0</td>\n",
       "      <td>1</td>\n",
       "      <td>0</td>\n",
       "      <td>0</td>\n",
       "      <td>0</td>\n",
       "      <td>0</td>\n",
       "      <td>0</td>\n",
       "      <td>1</td>\n",
       "      <td>0</td>\n",
       "      <td>0</td>\n",
       "      <td>1</td>\n",
       "    </tr>\n",
       "    <tr>\n",
       "      <th>3</th>\n",
       "      <td>6</td>\n",
       "      <td>1</td>\n",
       "      <td>1</td>\n",
       "      <td>0</td>\n",
       "      <td>1</td>\n",
       "      <td>0</td>\n",
       "      <td>0</td>\n",
       "      <td>0</td>\n",
       "      <td>0</td>\n",
       "      <td>0</td>\n",
       "      <td>0</td>\n",
       "      <td>1</td>\n",
       "      <td>0</td>\n",
       "    </tr>\n",
       "    <tr>\n",
       "      <th>4</th>\n",
       "      <td>14</td>\n",
       "      <td>6</td>\n",
       "      <td>0</td>\n",
       "      <td>0</td>\n",
       "      <td>1</td>\n",
       "      <td>0</td>\n",
       "      <td>0</td>\n",
       "      <td>0</td>\n",
       "      <td>0</td>\n",
       "      <td>0</td>\n",
       "      <td>0</td>\n",
       "      <td>0</td>\n",
       "      <td>1</td>\n",
       "    </tr>\n",
       "  </tbody>\n",
       "</table>\n",
       "</div>"
      ],
      "text/plain": [
       "   hour  user_past_purchases  email_text_short_email  \\\n",
       "0     2                    5                       1   \n",
       "1    12                    2                       0   \n",
       "2    11                    2                       0   \n",
       "3     6                    1                       1   \n",
       "4    14                    6                       0   \n",
       "\n",
       "   email_version_personalized  weekday_Monday  weekday_Saturday  \\\n",
       "0                           1               0                 0   \n",
       "1                           1               0                 0   \n",
       "2                           1               0                 0   \n",
       "3                           0               1                 0   \n",
       "4                           0               1                 0   \n",
       "\n",
       "   weekday_Sunday  weekday_Thursday  weekday_Tuesday  weekday_Wednesday  \\\n",
       "0               1                 0                0                  0   \n",
       "1               1                 0                0                  0   \n",
       "2               0                 0                0                  1   \n",
       "3               0                 0                0                  0   \n",
       "4               0                 0                0                  0   \n",
       "\n",
       "   user_country_FR  user_country_UK  user_country_US  \n",
       "0                0                0                1  \n",
       "1                0                1                0  \n",
       "2                0                0                1  \n",
       "3                0                1                0  \n",
       "4                0                0                1  "
      ]
     },
     "execution_count": 11,
     "metadata": {},
     "output_type": "execute_result"
    }
   ],
   "source": [
    "X.head()"
   ]
  },
  {
   "cell_type": "code",
   "execution_count": 12,
   "metadata": {},
   "outputs": [
    {
     "name": "stdout",
     "output_type": "stream",
     "text": [
      "Mean score:  0.5007774371377713 \n",
      " Std.dev:  0.004457389427465452\n"
     ]
    }
   ],
   "source": [
    "# baseline model \n",
    "model = DummyClassifier(strategy='stratified')\n",
    "scores = evaluate_model(X, y, model)\n",
    "\n",
    "print(\"Mean score: \", mean(scores), \"\\n\", \"Std.dev: \", std(scores))"
   ]
  },
  {
   "cell_type": "code",
   "execution_count": 60,
   "metadata": {},
   "outputs": [],
   "source": [
    "def get_models():\n",
    "    models, names = list(), list()\n",
    "    #LogisticRegression\n",
    "    models.append(LogisticRegression())\n",
    "    names.append('LR')\n",
    "    #balanced LR\n",
    "    models.append(LogisticRegression(class_weight = 'balanced'))\n",
    "    names.append('LR_bal')\n",
    "    #SVM\n",
    "    models.append(SVC(gamma = 'auto'))\n",
    "    names.append('SVM')\n",
    "    #KNN\n",
    "    models.append(KNeighborsClassifier())\n",
    "    names.append('KNN')\n",
    "    #RF\n",
    "    models.append(RandomForestClassifier(n_estimators = 100))\n",
    "    names.append('RF')\n",
    "    #ET\n",
    "    models.append(ExtraTreesClassifier(n_estimators = 100))\n",
    "    names.append('ET')\n",
    "    #gbm\n",
    "    models.append(GradientBoostingClassifier(n_estimators = 100))\n",
    "    names.append('GBM')\n",
    "    #LightGBM\n",
    "    models.append(LGBMClassifier())\n",
    "    names.append('lightgbm')\n",
    "    #balancedlgbm\n",
    "    models.append(LGBMClassifier(scale_pos_weight = 7))\n",
    "    names.append('lightgbm_bal')\n",
    "    #XGBClassifier\n",
    "    models.append(XGBClassifier())\n",
    "    names.append('xgbclassifier')\n",
    "    \n",
    "    return models, names"
   ]
  },
  {
   "cell_type": "code",
   "execution_count": 63,
   "metadata": {},
   "outputs": [
    {
     "name": "stdout",
     "output_type": "stream",
     "text": [
      ">LR 0.736 (0.015)\n",
      ">LR_bal 0.737 (0.016)\n",
      ">SVM 0.565 (0.020)\n",
      ">KNN 0.542 (0.014)\n",
      ">RF 0.581 (0.018)\n",
      ">ET 0.549 (0.016)\n",
      ">GBM 0.743 (0.014)\n",
      ">lightgbm 0.727 (0.015)\n",
      ">lightgbm_bal 0.723 (0.015)\n",
      ">xgbclassifier 0.714 (0.014)\n"
     ]
    }
   ],
   "source": [
    "models, names = get_models()\n",
    "results = list()\n",
    "for i in range(len(models)):\n",
    "    scores = evaluate_model(X, y, models[i])\n",
    "    results.append(scores)\n",
    "    print('>%s %.3f (%.3f)' % (names[i], mean(scores), std(scores)))"
   ]
  },
  {
   "cell_type": "code",
   "execution_count": 74,
   "metadata": {},
   "outputs": [
    {
     "data": {
      "text/plain": [
       "<AxesSubplot:>"
      ]
     },
     "execution_count": 74,
     "metadata": {},
     "output_type": "execute_result"
    },
    {
     "data": {
      "image/png": "[encoded data removed]",
      "text/plain": [
       "<Figure size 1152x576 with 1 Axes>"
      ]
     },
     "metadata": {
      "needs_background": "light"
     },
     "output_type": "display_data"
    }
   ],
   "source": [
    "plt.figure(figsize = (16, 8))\n",
    "sns.boxplot(y = results, x = names, hue = names)"
   ]
  },
  {
   "cell_type": "markdown",
   "metadata": {},
   "source": [
    "Remember at this point we did not scale our data, its best tp first scale your data and get the results. Also, it is best to do this method on the training data so that the testing data is untouched.\n",
    "\n",
    "Also, SVM('rbf') performed poorly and LR performed better so SVC('linear') can perform better here. For now, we will choose top models here.\n",
    "\n",
    "- Logistic Regression\n",
    "- GBM\n",
    "- LGBM\n",
    "- XGBoost"
   ]
  },
  {
   "cell_type": "markdown",
   "metadata": {},
   "source": [
    "The Imbalanced Techniques are:\n",
    "\n",
    "- Oversampling\n",
    "- Undersampling\n",
    "- Probability Tuning\n",
    "\n",
    "\n",
    ">Oversampling/Undersampling generally do not work on the ensemble of trees\n",
    "Also the resampling methods use KNearest Neighbors methods, so it is important to scale the data first\n",
    "\n",
    "Probability tuning can be done with \n",
    "1. adjusting class weights(during training only as we have done here with some cases) or, \n",
    "2. we can set the probability threshold after the training and see the results\n"
   ]
  },
  {
   "cell_type": "code",
   "execution_count": 14,
   "metadata": {},
   "outputs": [],
   "source": [
    "from sklearn.svm import LinearSVC\n",
    "from sklearn.discriminant_analysis import LinearDiscriminantAnalysis\n",
    "from sklearn.gaussian_process import GaussianProcessClassifier\n",
    "from imblearn.pipeline import Pipeline"
   ]
  },
  {
   "cell_type": "code",
   "execution_count": 85,
   "metadata": {},
   "outputs": [],
   "source": [
    "def get_models():\n",
    "    models, names = list(), list()\n",
    "    models.append(LogisticRegression(class_weight = 'balanced'))\n",
    "    names.append('LRbalanced')\n",
    "    #LDA\n",
    "    models.append(LinearDiscriminantAnalysis())\n",
    "    names.append('LDA')\n",
    "    #SVM\n",
    "    models.append(LinearSVC())\n",
    "    names.append('SVM')\n",
    "    #KNN\n",
    "    models.append(KNeighborsClassifier())\n",
    "    names.append('KNN')\n",
    "    #GP\n",
    "    models.append(GaussianProcessClassifier())\n",
    "    names.append('GP')\n",
    "    \n",
    "    return models, names"
   ]
  },
  {
   "cell_type": "code",
   "execution_count": 6,
   "metadata": {
    "scrolled": true
   },
   "outputs": [
    {
     "name": "stderr",
     "output_type": "stream",
     "text": [
      "<ipython-input-6-b2ea1de354ea>:4: SettingWithCopyWarning: \n",
      "A value is trying to be set on a copy of a slice from a DataFrame.\n",
      "Try using .loc[row_indexer,col_indexer] = value instead\n",
      "\n",
      "See the caveats in the documentation: https://pandas.pydata.org/pandas-docs/stable/user_guide/indexing.html#returning-a-view-versus-a-copy\n",
      "  X_train['hour'] = nm_hr.fit_transform(np.array(X_train['hour']).reshape(-1,1))\n",
      "<ipython-input-6-b2ea1de354ea>:5: SettingWithCopyWarning: \n",
      "A value is trying to be set on a copy of a slice from a DataFrame.\n",
      "Try using .loc[row_indexer,col_indexer] = value instead\n",
      "\n",
      "See the caveats in the documentation: https://pandas.pydata.org/pandas-docs/stable/user_guide/indexing.html#returning-a-view-versus-a-copy\n",
      "  X_train['user_past_purchases'] = nm_upp.fit_transform(np.array(X_train['user_past_purchases']).reshape(-1,1))\n"
     ]
    }
   ],
   "source": [
    "X_train, X_test, y_train, y_test = train_test_split(X, y, test_size = 0.33, random_state = 0)\n",
    "nm_hr = Normalizer()\n",
    "nm_upp = Normalizer()\n",
    "X_train['hour'] = nm_hr.fit_transform(np.array(X_train['hour']).reshape(-1,1))\n",
    "X_train['user_past_purchases'] = nm_upp.fit_transform(np.array(X_train['user_past_purchases']).reshape(-1,1))\n",
    "\n"
   ]
  },
  {
   "cell_type": "code",
   "execution_count": null,
   "metadata": {},
   "outputs": [
    {
     "name": "stdout",
     "output_type": "stream",
     "text": [
      ">LRbalanced 0.697 (0.015)\n",
      ">LDA 0.697 (0.015)\n",
      ">SVM 0.697 (0.015)\n"
     ]
    }
   ],
   "source": [
    "from imblearn.over_sampling import SMOTE, RandomOverSampler\n",
    "models, names = get_models()\n",
    "results = list()\n",
    "\n",
    "\n",
    "for i in range(len(models)):\n",
    "\n",
    "    steps = [('o', SMOTE(k_neighbors=2)), ('m', models[i])]\n",
    "    pipeline = Pipeline(steps=steps)\n",
    "    scores = evaluate_model(X_train, y_train, pipeline)\n",
    "    results.append(scores)\n",
    "    print('>%s %.3f (%.3f)' % (names[i], mean(scores), std(scores)))"
   ]
  },
  {
   "cell_type": "markdown",
   "metadata": {},
   "source": [
    "The KNN and GP failed to run on my local machine. But we see that rest of the models do not perform better with Oversampling.\n"
   ]
  },
  {
   "cell_type": "code",
   "execution_count": 20,
   "metadata": {},
   "outputs": [
    {
     "name": "stdout",
     "output_type": "stream",
     "text": [
      ">LR with undersampling 0.501 (0.020)\n"
     ]
    }
   ],
   "source": [
    "from imblearn.under_sampling import NearMiss, RandomUnderSampler\n",
    "\n",
    "steps1 = [('u', NearMiss(n_neighbors = 3)), ('m', LogisticRegression(class_weight = 'balanced'))]\n",
    "pipeline1 = Pipeline(steps = steps1)\n",
    "scores1 = evaluate_model(X_train, y_train, pipeline1)\n",
    "name1 = 'LR with undersampling'\n",
    "print('>%s %.3f (%.3f)' % (name1, mean(scores1), std(scores1)))\n"
   ]
  },
  {
   "cell_type": "code",
   "execution_count": 24,
   "metadata": {},
   "outputs": [
    {
     "name": "stdout",
     "output_type": "stream",
     "text": [
      ">LR with Random OverSampling 0.696 (0.016)\n"
     ]
    }
   ],
   "source": [
    "\n",
    "steps2 = [('ro', RandomOverSampler()), ('m', LogisticRegression(class_weight = 'balanced'))]\n",
    "pipeline2 = Pipeline(steps = steps2)\n",
    "scores2 = evaluate_model(X_train, y_train, pipeline2)\n",
    "name2 = 'LR with Random OverSampling'\n",
    "print('>%s %.3f (%.3f)' % (name2, mean(scores2), std(scores2)))\n"
   ]
  },
  {
   "cell_type": "code",
   "execution_count": 25,
   "metadata": {},
   "outputs": [
    {
     "name": "stdout",
     "output_type": "stream",
     "text": [
      ">LR with Randomundersampling 0.696 (0.015)\n"
     ]
    }
   ],
   "source": [
    "from imblearn.under_sampling import  RandomUnderSampler\n",
    "\n",
    "steps1 = [('ru', RandomUnderSampler()), ('m', LogisticRegression(class_weight = 'balanced'))]\n",
    "pipeline1 = Pipeline(steps = steps1)\n",
    "scores1 = evaluate_model(X_train, y_train, pipeline1)\n",
    "name1 = 'LR with Randomundersampling'\n",
    "print('>%s %.3f (%.3f)' % (name1, mean(scores1), std(scores1)))\n"
   ]
  },
  {
   "cell_type": "code",
   "execution_count": 26,
   "metadata": {},
   "outputs": [
    {
     "name": "stdout",
     "output_type": "stream",
     "text": [
      ">LR with Randomundersampling 0.697 (0.016)\n"
     ]
    }
   ],
   "source": [
    "steps1 = [('ro', RandomOverSampler()), ('ru', RandomUnderSampler()), ('m', LogisticRegression(class_weight = 'balanced'))]\n",
    "pipeline1 = Pipeline(steps = steps1)\n",
    "scores1 = evaluate_model(X_train, y_train, pipeline1)\n",
    "name1 = 'LR with Randomundersampling'\n",
    "print('>%s %.3f (%.3f)' % (name1, mean(scores1), std(scores1)))\n"
   ]
  },
  {
   "cell_type": "markdown",
   "metadata": {},
   "source": [
    "Resampling methods are not quite working here\n",
    "\n",
    "So, lets move forward with our non-imbalance algorithms. i.e, LR, LR(class_weight = 'balanced'), GBM, LGBM, XGBClassifier"
   ]
  },
  {
   "cell_type": "code",
   "execution_count": 127,
   "metadata": {},
   "outputs": [],
   "source": [
    "# def roc_curve(y_test, y_pred):\n",
    "#     fpr, tpr, thresholds = roc_curve(y_test, y_pred)\n",
    "#     gmeans = np.sqrt(tpr * (1-fpr))\n",
    "#     ix = np.argmax(gmeans)\n",
    "#     print(\"Best Threshold\", thresholds[ix], \"Gmean: \", gmeans[ix])\n",
    "#     ax = sns.lineplot(fpr, tpr, color = 'r')\n",
    "#     plt.scatter(fpr[ix], tpr[ix], marker='o', color='black', label='Best')\n",
    "\n",
    "#     ax.set_xlabel('FPR')\n",
    "#     ax.set_ylabel('TPR')\n",
    "    "
   ]
  },
  {
   "cell_type": "code",
   "execution_count": 129,
   "metadata": {},
   "outputs": [
    {
     "name": "stdout",
     "output_type": "stream",
     "text": [
      "Best Threshold 0.999988691514687 Gmean:  0.6492807023888072\n"
     ]
    },
    {
     "data": {
      "text/plain": [
       "Text(0, 0.5, 'TPR')"
      ]
     },
     "execution_count": 129,
     "metadata": {},
     "output_type": "execute_result"
    },
    {
     "data": {
      "image/png": "[encoded data removed]",
      "text/plain": [
       "<Figure size 432x288 with 1 Axes>"
      ]
     },
     "metadata": {
      "needs_background": "light"
     },
     "output_type": "display_data"
    }
   ],
   "source": [
    "\n",
    "\n",
    "model = LogisticRegression(class_weight = 'balanced')\n",
    "\n",
    "model.fit(X_train, y_train)\n",
    "y_pred = model.predict_proba(X_test)\n",
    "y_pred = (y_pred[:, 1])\n",
    "\n",
    "fpr, tpr, thresholds = roc_curve(y_test, y_pred)\n",
    "gmeans = np.sqrt(tpr * (1-fpr))\n",
    "ix = np.argmax(gmeans)\n",
    "print(\"Best Threshold\", thresholds[ix], \"Gmean: \", gmeans[ix])\n",
    "ax = sns.lineplot(fpr, tpr, color = 'r')\n",
    "plt.scatter(fpr[ix], tpr[ix], marker='o', color='black', label='Best')\n",
    "\n",
    "ax.set_xlabel('FPR')\n",
    "ax.set_ylabel('TPR')\n"
   ]
  },
  {
   "cell_type": "code",
   "execution_count": 89,
   "metadata": {},
   "outputs": [
    {
     "data": {
      "text/plain": [
       "Text(0.5, 33.0, 'Predicted Values')"
      ]
     },
     "execution_count": 89,
     "metadata": {},
     "output_type": "execute_result"
    },
    {
     "data": {
      "image/png": "[encoded data removed]",
      "text/plain": [
       "<Figure size 576x432 with 2 Axes>"
      ]
     },
     "metadata": {
      "needs_background": "light"
     },
     "output_type": "display_data"
    }
   ],
   "source": [
    "cm = confusion_matrix(y_test, y_pred>=thresholds[ix])\n",
    "\n",
    "plt.figure(figsize=(8, 6))\n",
    "ax = sns.heatmap(cm, annot = True, fmt = '.0f', cmap = 'Blues')\n",
    "ax.set_ylabel('True Values')\n",
    "ax.set_xlabel('Predicted Values')"
   ]
  },
  {
   "cell_type": "code",
   "execution_count": 111,
   "metadata": {},
   "outputs": [
    {
     "name": "stdout",
     "output_type": "stream",
     "text": [
      "increase in click through rate: 1.59\n",
      "cost saving:  7153\n"
     ]
    }
   ],
   "source": [
    "new_sent = 488+12570\n",
    "old_sent = 488+12570+19723+219\n",
    "old_clicked = 219+488\n",
    "new_clicked = 488\n",
    "cost_fp = 1\n",
    "cost_fn = 1\n",
    "cost_sending = 1\n",
    "fp = 12570\n",
    "fn = 219\n",
    "\n",
    "print('increase in click through rate:', round((new_clicked*100/(new_sent)) -  (old_clicked*100/(old_sent)), 2))\n",
    "print(\"cost saving: \", cost_sending*(old_sent-new_sent)-cost_fp* fp - cost_fn*fn)"
   ]
  },
  {
   "cell_type": "markdown",
   "metadata": {},
   "source": [
    "As we can see, even with all the costs set to 1, we are able to cost save and increase the CTR"
   ]
  },
  {
   "cell_type": "markdown",
   "metadata": {},
   "source": [
    "Next step would be to fine tune the model by grid searching the parameters: C and class_weights"
   ]
  },
  {
   "cell_type": "markdown",
   "metadata": {},
   "source": [
    "# Hyperparameter Tuning on Logistic Regression Classifier"
   ]
  },
  {
   "cell_type": "code",
   "execution_count": 121,
   "metadata": {},
   "outputs": [],
   "source": [
    "c_values = [100, 10, 1.0, 0.1, 0.01]\n",
    "solvers = ['newton-cg', 'lbfgs', 'liblinear']\n",
    "penalty = ['l1', 'l2']\n",
    "\n",
    "model = LogisticRegression()\n",
    "grid = dict(solver=solvers,penalty=penalty,C=c_values)\n",
    "cv = RepeatedStratifiedKFold(n_splits=10, n_repeats=3, random_state=1)\n",
    "grid_search = GridSearchCV(estimator=model, param_grid=grid, n_jobs=-1, cv=cv, scoring='roc_auc',error_score=0)\n",
    "grid_result = grid_search.fit(X_train, y_train)"
   ]
  },
  {
   "cell_type": "code",
   "execution_count": 122,
   "metadata": {},
   "outputs": [
    {
     "data": {
      "text/plain": [
       "(0.6960866294643854, {'C': 0.1, 'penalty': 'l2', 'solver': 'lbfgs'})"
      ]
     },
     "execution_count": 122,
     "metadata": {},
     "output_type": "execute_result"
    }
   ],
   "source": [
    "grid_result.best_score_, grid_result.best_params_"
   ]
  },
  {
   "cell_type": "code",
   "execution_count": 141,
   "metadata": {},
   "outputs": [
    {
     "name": "stdout",
     "output_type": "stream",
     "text": [
      "Best Threshold 0.9884449375977459 Gmean:  0.6488394382455407\n"
     ]
    },
    {
     "data": {
      "text/plain": [
       "Text(0.5, 33.0, 'Predicted Values')"
      ]
     },
     "execution_count": 141,
     "metadata": {},
     "output_type": "execute_result"
    },
    {
     "data": {
      "image/png": "[encoded data removed]",
      "text/plain": [
       "<Figure size 432x288 with 1 Axes>"
      ]
     },
     "metadata": {
      "needs_background": "light"
     },
     "output_type": "display_data"
    },
    {
     "data": {
      "image/png": "[encoded data removed]",
      "text/plain": [
       "<Figure size 576x432 with 2 Axes>"
      ]
     },
     "metadata": {
      "needs_background": "light"
     },
     "output_type": "display_data"
    }
   ],
   "source": [
    "model = LogisticRegression(C = 0.1, penalty = 'l2', solver = 'lbfgs')\n",
    "\n",
    "model.fit(X_train, y_train)\n",
    "y_pred = model.predict_proba(X_test)[:, 1]\n",
    "\n",
    "fpr, tpr, thresholds = roc_curve(y_test, y_pred)\n",
    "gmeans = np.sqrt(tpr * (1-fpr))\n",
    "ix = np.argmax(gmeans)\n",
    "print(\"Best Threshold\", thresholds[ix], \"Gmean: \", gmeans[ix])\n",
    "ax = sns.lineplot(fpr, tpr, color = 'r')\n",
    "plt.scatter(fpr[ix], tpr[ix], marker='o', color='black', label='Best')\n",
    "\n",
    "ax.set_xlabel('FPR')\n",
    "ax.set_ylabel('TPR')\n",
    "\n",
    "\n",
    "cm = confusion_matrix(y_test, y_pred>=thresholds[ix])\n",
    "\n",
    "plt.figure(figsize=(8, 6))\n",
    "ax = sns.heatmap(cm, annot = True, fmt = '.0f', cmap = 'Blues')\n",
    "ax.set_ylabel('True Values')\n",
    "ax.set_xlabel('Predicted Values')"
   ]
  },
  {
   "cell_type": "code",
   "execution_count": 142,
   "metadata": {},
   "outputs": [
    {
     "name": "stdout",
     "output_type": "stream",
     "text": [
      "increase in click through rate: 1.84\n",
      "cost saving:  10809\n"
     ]
    }
   ],
   "source": [
    "new_sent = 446+10742\n",
    "old_sent = 446+10742+21551+261\n",
    "old_clicked = 261+446\n",
    "new_clicked = 446\n",
    "cost_fp = 1\n",
    "cost_fn = 1\n",
    "cost_sending = 1\n",
    "fp = 10742\n",
    "fn = 261\n",
    "\n",
    "print('increase in click through rate:', round((new_clicked*100/(new_sent)) -  (old_clicked*100/(old_sent)), 2))\n",
    "print(\"cost saving: \", cost_sending*(old_sent-new_sent)-cost_fp* fp - cost_fn*fn)"
   ]
  },
  {
   "cell_type": "markdown",
   "metadata": {},
   "source": [
    "We were able to further better our model"
   ]
  },
  {
   "cell_type": "code",
   "execution_count": 140,
   "metadata": {},
   "outputs": [
    {
     "name": "stdout",
     "output_type": "stream",
     "text": [
      "Best Threshold 0.9999987748770033 Gmean:  0.6488103767582947\n"
     ]
    },
    {
     "data": {
      "text/plain": [
       "Text(0.5, 33.0, 'Predicted Values')"
      ]
     },
     "execution_count": 140,
     "metadata": {},
     "output_type": "execute_result"
    },
    {
     "data": {
      "image/png": "[encoded data removed]",
      "text/plain": [
       "<Figure size 432x288 with 1 Axes>"
      ]
     },
     "metadata": {
      "needs_background": "light"
     },
     "output_type": "display_data"
    },
    {
     "data": {
      "image/png": "[encoded data removed]",
      "text/plain": [
       "<Figure size 576x432 with 2 Axes>"
      ]
     },
     "metadata": {
      "needs_background": "light"
     },
     "output_type": "display_data"
    }
   ],
   "source": [
    "model = LogisticRegression(C = 0.1, penalty = 'l2', solver = 'lbfgs', class_weight = 'balanced')\n",
    "\n",
    "model.fit(X_train, y_train)\n",
    "y_pred = model.predict_proba(X_test)[:, 1]\n",
    "\n",
    "fpr, tpr, thresholds = roc_curve(y_test, y_pred)\n",
    "gmeans = np.sqrt(tpr * (1-fpr))\n",
    "ix = np.argmax(gmeans)\n",
    "print(\"Best Threshold\", thresholds[ix], \"Gmean: \", gmeans[ix])\n",
    "ax = sns.lineplot(fpr, tpr, color = 'r')\n",
    "plt.scatter(fpr[ix], tpr[ix], marker='o', color='black', label='Best')\n",
    "\n",
    "ax.set_xlabel('FPR')\n",
    "ax.set_ylabel('TPR')\n",
    "\n",
    "\n",
    "cm = confusion_matrix(y_test, y_pred>=thresholds[ix])\n",
    "\n",
    "plt.figure(figsize=(8, 6))\n",
    "ax = sns.heatmap(cm, annot = True, fmt = '.0f', cmap = 'Blues')\n",
    "ax.set_ylabel('True Values')\n",
    "ax.set_xlabel('Predicted Values')"
   ]
  },
  {
   "cell_type": "code",
   "execution_count": 139,
   "metadata": {},
   "outputs": [
    {
     "name": "stdout",
     "output_type": "stream",
     "text": [
      "increase in click through rate: 1.87\n",
      "cost saving:  11097\n"
     ]
    }
   ],
   "source": [
    "new_sent = 443+10598\n",
    "old_sent = 443+10598+21695+264\n",
    "old_clicked = 264+443\n",
    "new_clicked = 443\n",
    "cost_fp = 1\n",
    "cost_fn = 1\n",
    "cost_sending = 1\n",
    "fp = 10598\n",
    "fn = 264\n",
    "\n",
    "print('increase in click through rate:', round((new_clicked*100/(new_sent)) -  (old_clicked*100/(old_sent)), 2))\n",
    "print(\"cost saving: \", cost_sending*(old_sent-new_sent)-cost_fp* fp - cost_fn*fn)"
   ]
  },
  {
   "cell_type": "markdown",
   "metadata": {},
   "source": [
    "With balanced class weights, we are able to increase the model performance even better.\n",
    "We can perform GridSearch on the class weights as well and select the best model.\n",
    "\n",
    "\n",
    "Next step would be to use GBM and see how much performance boost we could get!!"
   ]
  },
  {
   "cell_type": "markdown",
   "metadata": {},
   "source": [
    "# Gradient Boost Classifier"
   ]
  },
  {
   "cell_type": "code",
   "execution_count": 143,
   "metadata": {},
   "outputs": [],
   "source": [
    "?GradientBoostingClassifier"
   ]
  },
  {
   "cell_type": "code",
   "execution_count": 74,
   "metadata": {},
   "outputs": [
    {
     "name": "stdout",
     "output_type": "stream",
     "text": [
      "Fitting 5 folds for each of 7 candidates, totalling 35 fits\n"
     ]
    },
    {
     "name": "stderr",
     "output_type": "stream",
     "text": [
      "[Parallel(n_jobs=-1)]: Using backend LokyBackend with 12 concurrent workers.\n",
      "[Parallel(n_jobs=-1)]: Done  35 out of  35 | elapsed:   13.7s finished\n"
     ]
    }
   ],
   "source": [
    "model =  GradientBoostingClassifier(learning_rate = 0.02, min_samples_split=500,min_samples_leaf=50,max_depth=8,\n",
    "                                   max_features='sqrt',subsample=0.8,random_state=10)\n",
    "grid = {'n_estimators':range(30,100,10)}\n",
    "grid_search = GridSearchCV(estimator = model, param_grid = grid, \n",
    "                           scoring='roc_auc',n_jobs=-1, cv=5, verbose = True)\n",
    "\n",
    "grid_result = grid_search.fit(X_train,y_train)"
   ]
  },
  {
   "cell_type": "code",
   "execution_count": 75,
   "metadata": {},
   "outputs": [
    {
     "data": {
      "text/plain": [
       "({'n_estimators': 70}, 0.6948688349628492)"
      ]
     },
     "execution_count": 75,
     "metadata": {},
     "output_type": "execute_result"
    }
   ],
   "source": [
    "grid_search.best_params_, grid_search.best_score_"
   ]
  },
  {
   "cell_type": "code",
   "execution_count": 120,
   "metadata": {
    "scrolled": true
   },
   "outputs": [
    {
     "name": "stdout",
     "output_type": "stream",
     "text": [
      "Fitting 5 folds for each of 4 candidates, totalling 20 fits\n"
     ]
    },
    {
     "name": "stderr",
     "output_type": "stream",
     "text": [
      "[Parallel(n_jobs=-1)]: Using backend LokyBackend with 12 concurrent workers.\n",
      "[Parallel(n_jobs=-1)]: Done  18 out of  20 | elapsed:   12.4s remaining:    1.4s\n",
      "[Parallel(n_jobs=-1)]: Done  20 out of  20 | elapsed:   12.5s finished\n"
     ]
    }
   ],
   "source": [
    "model =  GradientBoostingClassifier(learning_rate = 0.02,n_estimators=70,max_depth = 14, min_samples_leaf = 60,\n",
    "                                    min_samples_split= 600, subsample = 0.8, \n",
    "                                   max_features='sqrt',random_state=10)\n",
    "\n",
    "grid2 = {'max_features':[5,6,8, 10]}\n",
    "grid_search = GridSearchCV(estimator = model, param_grid = grid2, \n",
    "                           scoring='roc_auc',n_jobs=-1, cv=5, verbose = True)\n",
    "\n",
    "grid_result = grid_search.fit(X_train,y_train)\n",
    "grid_search.best_params_, grid_search.best_score_\n"
   ]
  },
  {
   "cell_type": "markdown",
   "metadata": {},
   "source": [
    "**Let's make the functions for plotting the ROC curve and confusion matrix to avoid repeatation**"
   ]
  },
  {
   "cell_type": "code",
   "execution_count": 173,
   "metadata": {},
   "outputs": [],
   "source": [
    "def plots(model, X_train, y_train, X_test, y_test):\n",
    "    model.fit(X_train, y_train)\n",
    "    y_pred = model.predict_proba(X_test)\n",
    "    y_pred = (y_pred[:, 1])\n",
    "\n",
    "    fpr, tpr, thresholds = roc_curve(y_test, y_pred)\n",
    "    gmeans = np.sqrt(tpr * (1-fpr))\n",
    "    ix = np.argmax(gmeans)\n",
    "    print(\"Best Threshold\", thresholds[ix], \"Gmean: \", gmeans[ix])\n",
    "    ax = sns.lineplot(fpr, tpr, color = 'r')\n",
    "    plt.scatter(fpr[ix], tpr[ix], marker='o', color='black', label='Best')\n",
    "\n",
    "    ax.set_xlabel('FPR')\n",
    "    ax.set_ylabel('TPR')\n",
    "\n",
    "    cm = confusion_matrix(y_test, y_pred>=0.024)\n",
    "    cr = classification_report(y_test, y_pred>=0.024)\n",
    "\n",
    "    plt.figure(figsize=(8, 6))\n",
    "    ax = sns.heatmap(cm, annot = True, fmt = '.0f', cmap = 'Blues')\n",
    "    ax.set_ylabel('True Values')\n",
    "    ax.set_xlabel('Predicted Values')\n",
    "    return cm, cr"
   ]
  },
  {
   "cell_type": "code",
   "execution_count": 134,
   "metadata": {},
   "outputs": [],
   "source": [
    "def results(confusion_matrix = cm):\n",
    "    new_sent = cm[:, 1].sum()\n",
    "    old_sent = cm.sum()\n",
    "    old_clicked = cm[1, :].sum()\n",
    "    new_clicked = cm[1, 1]\n",
    "    cost_fp = 1\n",
    "    cost_fn = 1\n",
    "    cost_sending = 1\n",
    "    fp = cm[0][1]\n",
    "    fn = cm[1][0]\n",
    "    \n",
    "    ctr_inc= round((new_clicked*100/(new_sent)) -  (old_clicked*100/(old_sent)), 2)\n",
    "    cost_save = cost_sending*(old_sent-new_sent)-cost_fp* fp - cost_fn*fn\n",
    "    return ctr_inc, cost_save\n",
    "\n"
   ]
  },
  {
   "cell_type": "code",
   "execution_count": 138,
   "metadata": {},
   "outputs": [
    {
     "name": "stdout",
     "output_type": "stream",
     "text": [
      "Best Threshold 0.02413690733294398 Gmean:  0.6250983715517038\n"
     ]
    },
    {
     "data": {
      "image/png": "[encoded data removed]",
      "text/plain": [
       "<Figure size 432x288 with 1 Axes>"
      ]
     },
     "metadata": {
      "needs_background": "light"
     },
     "output_type": "display_data"
    },
    {
     "data": {
      "image/png": "[encoded data removed]",
      "text/plain": [
       "<Figure size 576x432 with 2 Axes>"
      ]
     },
     "metadata": {
      "needs_background": "light"
     },
     "output_type": "display_data"
    }
   ],
   "source": [
    "model = GradientBoostingClassifier(learning_rate = 0.02,n_estimators=70,max_depth = 14, min_samples_leaf = 60,\n",
    "                                    min_samples_split= 600, subsample = 0.8, \n",
    "                                   max_features='sqrt',random_state=10)\n",
    "cm, cr = plots(model, X_train, y_train, X_test, y_test)\n",
    "ctr_inc, cost_save = results(cm)"
   ]
  },
  {
   "cell_type": "code",
   "execution_count": 133,
   "metadata": {},
   "outputs": [
    {
     "name": "stdout",
     "output_type": "stream",
     "text": [
      "increase in click through rate: 1.35\n",
      "cost saving:  7623\n"
     ]
    }
   ],
   "source": [
    "print('increase in click through rate:',ctr_inc )\n",
    "print(\"cost saving: \", cost_save)"
   ]
  },
  {
   "cell_type": "code",
   "execution_count": 146,
   "metadata": {},
   "outputs": [
    {
     "name": "stdout",
     "output_type": "stream",
     "text": [
      "increase in click through rate: 1.34\n",
      "cost saving:  7095\n"
     ]
    }
   ],
   "source": [
    "ctr_inc, cost_save = results(cm)\n",
    "\n",
    "print('increase in click through rate:',ctr_inc )\n",
    "print(\"cost saving: \", cost_save)"
   ]
  },
  {
   "cell_type": "code",
   "execution_count": 148,
   "metadata": {
    "scrolled": true
   },
   "outputs": [
    {
     "data": {
      "text/plain": [
       "user_past_purchases           0.346040\n",
       "email_version_personalized    0.202976\n",
       "user_country_UK               0.091579\n",
       "user_country_FR               0.083332\n",
       "weekday_Wednesday             0.068000\n",
       "user_country_US               0.058885\n",
       "email_text_short_email        0.058612\n",
       "weekday_Thursday              0.034412\n",
       "weekday_Monday                0.024990\n",
       "weekday_Tuesday               0.023552\n",
       "weekday_Sunday                0.005341\n",
       "weekday_Saturday              0.002282\n",
       "hour                          0.000000\n",
       "dtype: float64"
      ]
     },
     "execution_count": 148,
     "metadata": {},
     "output_type": "execute_result"
    }
   ],
   "source": [
    "pd.Series(model.feature_importances_, X_train.columns).sort_values(ascending=False)"
   ]
  },
  {
   "cell_type": "markdown",
   "metadata": {},
   "source": [
    "# Feature Engineering\n",
    "\n",
    "\n",
    "We can see that, the best gbm/LR model are not able to perform as expected; let us do some feature engineering and fit the models\n",
    "\n",
    "1. We saw in our EDA that CTR was more for Weekdays in comparison to Weekends\n",
    "2. CTR was more for english speaking countries UK, US than Fr and ES\n",
    "3. CTR was more for short email text than long email text; similarly more for personalised than generic email.\n",
    "\n",
    "Since hour does not seem to be importat at all, we will remove this."
   ]
  },
  {
   "cell_type": "code",
   "execution_count": 149,
   "metadata": {},
   "outputs": [
    {
     "data": {
      "text/html": [
       "<div>\n",
       "<style scoped>\n",
       "    .dataframe tbody tr th:only-of-type {\n",
       "        vertical-align: middle;\n",
       "    }\n",
       "\n",
       "    .dataframe tbody tr th {\n",
       "        vertical-align: top;\n",
       "    }\n",
       "\n",
       "    .dataframe thead th {\n",
       "        text-align: right;\n",
       "    }\n",
       "</style>\n",
       "<table border=\"1\" class=\"dataframe\">\n",
       "  <thead>\n",
       "    <tr style=\"text-align: right;\">\n",
       "      <th></th>\n",
       "      <th>email_id</th>\n",
       "      <th>email_text</th>\n",
       "      <th>email_version</th>\n",
       "      <th>hour</th>\n",
       "      <th>weekday</th>\n",
       "      <th>user_country</th>\n",
       "      <th>user_past_purchases</th>\n",
       "      <th>Opened</th>\n",
       "      <th>Clicked</th>\n",
       "    </tr>\n",
       "  </thead>\n",
       "  <tbody>\n",
       "    <tr>\n",
       "      <th>0</th>\n",
       "      <td>85120</td>\n",
       "      <td>short_email</td>\n",
       "      <td>personalized</td>\n",
       "      <td>2</td>\n",
       "      <td>Sunday</td>\n",
       "      <td>US</td>\n",
       "      <td>5</td>\n",
       "      <td>0</td>\n",
       "      <td>0</td>\n",
       "    </tr>\n",
       "    <tr>\n",
       "      <th>1</th>\n",
       "      <td>966622</td>\n",
       "      <td>long_email</td>\n",
       "      <td>personalized</td>\n",
       "      <td>12</td>\n",
       "      <td>Sunday</td>\n",
       "      <td>UK</td>\n",
       "      <td>2</td>\n",
       "      <td>1</td>\n",
       "      <td>1</td>\n",
       "    </tr>\n",
       "    <tr>\n",
       "      <th>2</th>\n",
       "      <td>777221</td>\n",
       "      <td>long_email</td>\n",
       "      <td>personalized</td>\n",
       "      <td>11</td>\n",
       "      <td>Wednesday</td>\n",
       "      <td>US</td>\n",
       "      <td>2</td>\n",
       "      <td>0</td>\n",
       "      <td>0</td>\n",
       "    </tr>\n",
       "    <tr>\n",
       "      <th>3</th>\n",
       "      <td>493711</td>\n",
       "      <td>short_email</td>\n",
       "      <td>generic</td>\n",
       "      <td>6</td>\n",
       "      <td>Monday</td>\n",
       "      <td>UK</td>\n",
       "      <td>1</td>\n",
       "      <td>0</td>\n",
       "      <td>0</td>\n",
       "    </tr>\n",
       "    <tr>\n",
       "      <th>4</th>\n",
       "      <td>106887</td>\n",
       "      <td>long_email</td>\n",
       "      <td>generic</td>\n",
       "      <td>14</td>\n",
       "      <td>Monday</td>\n",
       "      <td>US</td>\n",
       "      <td>6</td>\n",
       "      <td>0</td>\n",
       "      <td>0</td>\n",
       "    </tr>\n",
       "  </tbody>\n",
       "</table>\n",
       "</div>"
      ],
      "text/plain": [
       "   email_id   email_text email_version  hour    weekday user_country  \\\n",
       "0     85120  short_email  personalized     2     Sunday           US   \n",
       "1    966622   long_email  personalized    12     Sunday           UK   \n",
       "2    777221   long_email  personalized    11  Wednesday           US   \n",
       "3    493711  short_email       generic     6     Monday           UK   \n",
       "4    106887   long_email       generic    14     Monday           US   \n",
       "\n",
       "   user_past_purchases  Opened  Clicked  \n",
       "0                    5       0        0  \n",
       "1                    2       1        1  \n",
       "2                    2       0        0  \n",
       "3                    1       0        0  \n",
       "4                    6       0        0  "
      ]
     },
     "execution_count": 149,
     "metadata": {},
     "output_type": "execute_result"
    }
   ],
   "source": [
    "email_data.head()"
   ]
  },
  {
   "cell_type": "code",
   "execution_count": 158,
   "metadata": {},
   "outputs": [],
   "source": [
    "data = email_data.copy()\n",
    "\n",
    "data['Weekday'] = data.weekday.apply(lambda x: 0 if x in ['Friday', 'Saturday', 'Sunday'] else 1)\n",
    "data['english'] = data.user_country.apply(lambda x: 0 if x in ['FR', 'ES'] else 1)\n",
    "data['email_text'] = data.email_text.apply(lambda x: 2 if x=='short_email' else 4)\n",
    "data['email_version'] = data.email_version.apply(lambda x: 1 if x=='personalized' else 0)\n",
    "data.drop(['email_id','hour', 'user_country','weekday'], inplace = True, axis =1)"
   ]
  },
  {
   "cell_type": "code",
   "execution_count": 159,
   "metadata": {},
   "outputs": [
    {
     "data": {
      "text/html": [
       "<div>\n",
       "<style scoped>\n",
       "    .dataframe tbody tr th:only-of-type {\n",
       "        vertical-align: middle;\n",
       "    }\n",
       "\n",
       "    .dataframe tbody tr th {\n",
       "        vertical-align: top;\n",
       "    }\n",
       "\n",
       "    .dataframe thead th {\n",
       "        text-align: right;\n",
       "    }\n",
       "</style>\n",
       "<table border=\"1\" class=\"dataframe\">\n",
       "  <thead>\n",
       "    <tr style=\"text-align: right;\">\n",
       "      <th></th>\n",
       "      <th>email_text</th>\n",
       "      <th>email_version</th>\n",
       "      <th>user_past_purchases</th>\n",
       "      <th>Opened</th>\n",
       "      <th>Clicked</th>\n",
       "      <th>Weekday</th>\n",
       "      <th>english</th>\n",
       "    </tr>\n",
       "  </thead>\n",
       "  <tbody>\n",
       "    <tr>\n",
       "      <th>0</th>\n",
       "      <td>2</td>\n",
       "      <td>1</td>\n",
       "      <td>5</td>\n",
       "      <td>0</td>\n",
       "      <td>0</td>\n",
       "      <td>0</td>\n",
       "      <td>1</td>\n",
       "    </tr>\n",
       "    <tr>\n",
       "      <th>1</th>\n",
       "      <td>4</td>\n",
       "      <td>1</td>\n",
       "      <td>2</td>\n",
       "      <td>1</td>\n",
       "      <td>1</td>\n",
       "      <td>0</td>\n",
       "      <td>1</td>\n",
       "    </tr>\n",
       "    <tr>\n",
       "      <th>2</th>\n",
       "      <td>4</td>\n",
       "      <td>1</td>\n",
       "      <td>2</td>\n",
       "      <td>0</td>\n",
       "      <td>0</td>\n",
       "      <td>1</td>\n",
       "      <td>1</td>\n",
       "    </tr>\n",
       "    <tr>\n",
       "      <th>3</th>\n",
       "      <td>2</td>\n",
       "      <td>0</td>\n",
       "      <td>1</td>\n",
       "      <td>0</td>\n",
       "      <td>0</td>\n",
       "      <td>1</td>\n",
       "      <td>1</td>\n",
       "    </tr>\n",
       "    <tr>\n",
       "      <th>4</th>\n",
       "      <td>4</td>\n",
       "      <td>0</td>\n",
       "      <td>6</td>\n",
       "      <td>0</td>\n",
       "      <td>0</td>\n",
       "      <td>1</td>\n",
       "      <td>1</td>\n",
       "    </tr>\n",
       "  </tbody>\n",
       "</table>\n",
       "</div>"
      ],
      "text/plain": [
       "   email_text  email_version  user_past_purchases  Opened  Clicked  Weekday  \\\n",
       "0           2              1                    5       0        0        0   \n",
       "1           4              1                    2       1        1        0   \n",
       "2           4              1                    2       0        0        1   \n",
       "3           2              0                    1       0        0        1   \n",
       "4           4              0                    6       0        0        1   \n",
       "\n",
       "   english  \n",
       "0        1  \n",
       "1        1  \n",
       "2        1  \n",
       "3        1  \n",
       "4        1  "
      ]
     },
     "execution_count": 159,
     "metadata": {},
     "output_type": "execute_result"
    }
   ],
   "source": [
    "data.head()"
   ]
  },
  {
   "cell_type": "code",
   "execution_count": 160,
   "metadata": {},
   "outputs": [],
   "source": [
    "X = data.drop(['Opened', 'Clicked'], axis = 1).copy()\n",
    "y = data['Clicked']\n",
    "\n",
    "X_train, X_test, y_train, y_test = train_test_split(X, y, test_size = 0.33, random_state = 0)"
   ]
  },
  {
   "cell_type": "code",
   "execution_count": 164,
   "metadata": {},
   "outputs": [
    {
     "name": "stdout",
     "output_type": "stream",
     "text": [
      "Best Threshold 0.022151172818562968 Gmean:  0.6701155795543979\n",
      "increase in click through rate: 2.25\n",
      "cost saving:  13023\n"
     ]
    },
    {
     "data": {
      "image/png": "[encoded data removed]",
      "text/plain": [
       "<Figure size 432x288 with 1 Axes>"
      ]
     },
     "metadata": {
      "needs_background": "light"
     },
     "output_type": "display_data"
    },
    {
     "data": {
      "image/png": "[encoded data removed]",
      "text/plain": [
       "<Figure size 576x432 with 2 Axes>"
      ]
     },
     "metadata": {
      "needs_background": "light"
     },
     "output_type": "display_data"
    }
   ],
   "source": [
    "model = GradientBoostingClassifier()\n",
    "cm = plots(model, X_train, y_train, X_test, y_test)\n",
    "\n",
    "ctr_inc, cost_save = results(cm)\n",
    "\n",
    "print('increase in click through rate:',ctr_inc )\n",
    "print(\"cost saving: \", cost_save)"
   ]
  },
  {
   "cell_type": "code",
   "execution_count": 167,
   "metadata": {},
   "outputs": [
    {
     "data": {
      "text/plain": [
       "<AxesSubplot:>"
      ]
     },
     "execution_count": 167,
     "metadata": {},
     "output_type": "execute_result"
    },
    {
     "data": {
      "image/png": "[encoded data removed]",
      "text/plain": [
       "<Figure size 432x288 with 1 Axes>"
      ]
     },
     "metadata": {
      "needs_background": "light"
     },
     "output_type": "display_data"
    }
   ],
   "source": [
    "var_imp = pd.Series(model.feature_importances_, X_train.columns).sort_values(ascending=False)\n",
    "var_imp.plot(kind = 'bar', orientation = 'vertical')"
   ]
  },
  {
   "cell_type": "markdown",
   "metadata": {},
   "source": [
    "As we can see, a little bit of feature engineering is resulting in a much more better prediction model!!\n"
   ]
  },
  {
   "cell_type": "code",
   "execution_count": 175,
   "metadata": {},
   "outputs": [
    {
     "name": "stdout",
     "output_type": "stream",
     "text": [
      "Best Threshold 0.0210150279974376 Gmean:  0.67996147368078\n",
      "increase in click through rate: 2.51\n",
      "cost saving:  14725\n"
     ]
    },
    {
     "data": {
      "image/png": "[encoded data removed]",
      "text/plain": [
       "<Figure size 432x288 with 1 Axes>"
      ]
     },
     "metadata": {
      "needs_background": "light"
     },
     "output_type": "display_data"
    },
    {
     "data": {
      "image/png": "[encoded data removed]",
      "text/plain": [
       "<Figure size 576x432 with 2 Axes>"
      ]
     },
     "metadata": {
      "needs_background": "light"
     },
     "output_type": "display_data"
    }
   ],
   "source": [
    "model = LogisticRegression()\n",
    "sc = StandardScaler()\n",
    "X_train = sc.fit_transform(X_train)\n",
    "X_test = sc.transform(X_test)\n",
    "cm, cr = plots(model, X_train, y_train, X_test, y_test)\n",
    "\n",
    "ctr_inc, cost_save = results(cm)\n",
    "\n",
    "print('increase in click through rate:',ctr_inc )\n",
    "print(\"cost saving: \", cost_save)\n"
   ]
  },
  {
   "cell_type": "code",
   "execution_count": 177,
   "metadata": {},
   "outputs": [
    {
     "name": "stdout",
     "output_type": "stream",
     "text": [
      "              precision    recall  f1-score   support\n",
      "\n",
      "           0       0.99      0.73      0.84     32293\n",
      "           1       0.05      0.61      0.09       707\n",
      "\n",
      "    accuracy                           0.73     33000\n",
      "   macro avg       0.52      0.67      0.46     33000\n",
      "weighted avg       0.97      0.73      0.82     33000\n",
      "\n"
     ]
    }
   ],
   "source": [
    "print(cr)"
   ]
  },
  {
   "cell_type": "code",
   "execution_count": 180,
   "metadata": {},
   "outputs": [
    {
     "data": {
      "text/plain": [
       "0.04656463692608271"
      ]
     },
     "execution_count": 180,
     "metadata": {},
     "output_type": "execute_result"
    }
   ],
   "source": [
    "cm[1][1]/cm[:, 1].sum()"
   ]
  },
  {
   "cell_type": "code",
   "execution_count": 181,
   "metadata": {},
   "outputs": [],
   "source": [
    "import pickle"
   ]
  },
  {
   "cell_type": "code",
   "execution_count": 184,
   "metadata": {},
   "outputs": [],
   "source": [
    "pickle.dump(model, open('finalised_model.sav', 'wb'))"
   ]
  },
  {
   "cell_type": "code",
   "execution_count": 185,
   "metadata": {},
   "outputs": [],
   "source": [
    "filename = 'finalised_model.sav'\n",
    "loaded_model = pickle.load(open(filename, 'rb'))"
   ]
  },
  {
   "cell_type": "code",
   "execution_count": 190,
   "metadata": {},
   "outputs": [
    {
     "data": {
      "text/plain": [
       "array([[-0.14755619,  0.31354836,  0.5776656 ,  0.25021406,  0.45633523]])"
      ]
     },
     "execution_count": 190,
     "metadata": {},
     "output_type": "execute_result"
    }
   ],
   "source": [
    "loaded_model.coef_"
   ]
  },
  {
   "cell_type": "markdown",
   "metadata": {},
   "source": [
    "# Next Steps:\n",
    "\n",
    "\n",
    "To test the conclusion, we need to perform an A/B test:\n",
    "\n",
    "- randomly assign users to two groups, Control group and Experiment group.\n",
    "- in Control group, still use the old email-campaign strategy, i.e., just send emails to all users in Control group.\n",
    "- in Experiment group, use my model to predict whether the user will click the link or not. and only send emails to those users whose predictive result is positive.\n",
    "- then we preform a one-tail unpaired t-test to test whether Experiement group's population proportion is higher than Control group's population proportion."
   ]
  },
  {
   "cell_type": "code",
   "execution_count": null,
   "metadata": {},
   "outputs": [],
   "source": []
  }
 ],
 "metadata": {
  "kernelspec": {
   "display_name": "Python 3",
   "language": "python",
   "name": "python3"
  },
  "language_info": {
   "codemirror_mode": {
    "name": "ipython",
    "version": 3
   },
   "file_extension": ".py",
   "mimetype": "text/x-python",
   "name": "python",
   "nbconvert_exporter": "python",
   "pygments_lexer": "ipython3",
   "version": "3.8.5"
  }
 },
 "nbformat": 4,
 "nbformat_minor": 4
}
