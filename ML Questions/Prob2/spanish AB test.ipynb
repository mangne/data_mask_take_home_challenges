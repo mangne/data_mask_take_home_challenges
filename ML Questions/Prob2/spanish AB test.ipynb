{
 "cells": [
  {
   "cell_type": "code",
   "execution_count": 5,
   "metadata": {},
   "outputs": [],
   "source": [
    "import pandas as pd\n",
    "import sys\n",
    "import os"
   ]
  },
  {
   "cell_type": "code",
   "execution_count": 94,
   "metadata": {},
   "outputs": [],
   "source": [
    "import seaborn as sns\n",
    "import matplotlib\n",
    "from matplotlib import pyplot as plt\n",
    "%matplotlib inline"
   ]
  },
  {
   "cell_type": "code",
   "execution_count": 10,
   "metadata": {},
   "outputs": [
    {
     "data": {
      "text/plain": [
       "['/Users/nehamangal/GitHub/Data Mask - Take Home Challenges/data_mask_take_home_challenges/ML Questions/Prob2',\n",
       " '/usr/local/Cellar/python/3.7.7/Frameworks/Python.framework/Versions/3.7/lib/python37.zip',\n",
       " '/usr/local/Cellar/python/3.7.7/Frameworks/Python.framework/Versions/3.7/lib/python3.7',\n",
       " '/usr/local/Cellar/python/3.7.7/Frameworks/Python.framework/Versions/3.7/lib/python3.7/lib-dynload',\n",
       " '',\n",
       " '/usr/local/lib/python3.7/site-packages',\n",
       " '/usr/local/lib/python3.7/site-packages/IPython/extensions',\n",
       " '/Users/nehamangal/.ipython']"
      ]
     },
     "execution_count": 10,
     "metadata": {},
     "output_type": "execute_result"
    }
   ],
   "source": [
    "sys.path"
   ]
  },
  {
   "cell_type": "code",
   "execution_count": 16,
   "metadata": {},
   "outputs": [],
   "source": [
    "test_data = pd.read_csv('/Users/nehamangal/GitHub/Data Mask - Take Home Challenges/data_mask_take_home_challenges/ML Questions/Prob2/Translation_Test/test_table.csv')"
   ]
  },
  {
   "cell_type": "code",
   "execution_count": 17,
   "metadata": {},
   "outputs": [
    {
     "data": {
      "text/html": [
       "<div>\n",
       "<style scoped>\n",
       "    .dataframe tbody tr th:only-of-type {\n",
       "        vertical-align: middle;\n",
       "    }\n",
       "\n",
       "    .dataframe tbody tr th {\n",
       "        vertical-align: top;\n",
       "    }\n",
       "\n",
       "    .dataframe thead th {\n",
       "        text-align: right;\n",
       "    }\n",
       "</style>\n",
       "<table border=\"1\" class=\"dataframe\">\n",
       "  <thead>\n",
       "    <tr style=\"text-align: right;\">\n",
       "      <th></th>\n",
       "      <th>user_id</th>\n",
       "      <th>date</th>\n",
       "      <th>source</th>\n",
       "      <th>device</th>\n",
       "      <th>browser_language</th>\n",
       "      <th>ads_channel</th>\n",
       "      <th>browser</th>\n",
       "      <th>conversion</th>\n",
       "      <th>test</th>\n",
       "    </tr>\n",
       "  </thead>\n",
       "  <tbody>\n",
       "    <tr>\n",
       "      <th>0</th>\n",
       "      <td>315281</td>\n",
       "      <td>2015-12-03</td>\n",
       "      <td>Direct</td>\n",
       "      <td>Web</td>\n",
       "      <td>ES</td>\n",
       "      <td>NaN</td>\n",
       "      <td>IE</td>\n",
       "      <td>1</td>\n",
       "      <td>0</td>\n",
       "    </tr>\n",
       "    <tr>\n",
       "      <th>1</th>\n",
       "      <td>497851</td>\n",
       "      <td>2015-12-04</td>\n",
       "      <td>Ads</td>\n",
       "      <td>Web</td>\n",
       "      <td>ES</td>\n",
       "      <td>Google</td>\n",
       "      <td>IE</td>\n",
       "      <td>0</td>\n",
       "      <td>1</td>\n",
       "    </tr>\n",
       "    <tr>\n",
       "      <th>2</th>\n",
       "      <td>848402</td>\n",
       "      <td>2015-12-04</td>\n",
       "      <td>Ads</td>\n",
       "      <td>Web</td>\n",
       "      <td>ES</td>\n",
       "      <td>Facebook</td>\n",
       "      <td>Chrome</td>\n",
       "      <td>0</td>\n",
       "      <td>0</td>\n",
       "    </tr>\n",
       "    <tr>\n",
       "      <th>3</th>\n",
       "      <td>290051</td>\n",
       "      <td>2015-12-03</td>\n",
       "      <td>Ads</td>\n",
       "      <td>Mobile</td>\n",
       "      <td>Other</td>\n",
       "      <td>Facebook</td>\n",
       "      <td>Android_App</td>\n",
       "      <td>0</td>\n",
       "      <td>1</td>\n",
       "    </tr>\n",
       "    <tr>\n",
       "      <th>4</th>\n",
       "      <td>548435</td>\n",
       "      <td>2015-11-30</td>\n",
       "      <td>Ads</td>\n",
       "      <td>Web</td>\n",
       "      <td>ES</td>\n",
       "      <td>Google</td>\n",
       "      <td>FireFox</td>\n",
       "      <td>0</td>\n",
       "      <td>1</td>\n",
       "    </tr>\n",
       "    <tr>\n",
       "      <th>5</th>\n",
       "      <td>540675</td>\n",
       "      <td>2015-12-03</td>\n",
       "      <td>Direct</td>\n",
       "      <td>Mobile</td>\n",
       "      <td>ES</td>\n",
       "      <td>NaN</td>\n",
       "      <td>Android_App</td>\n",
       "      <td>0</td>\n",
       "      <td>1</td>\n",
       "    </tr>\n",
       "    <tr>\n",
       "      <th>6</th>\n",
       "      <td>863394</td>\n",
       "      <td>2015-12-04</td>\n",
       "      <td>SEO</td>\n",
       "      <td>Mobile</td>\n",
       "      <td>Other</td>\n",
       "      <td>NaN</td>\n",
       "      <td>Android_App</td>\n",
       "      <td>0</td>\n",
       "      <td>0</td>\n",
       "    </tr>\n",
       "    <tr>\n",
       "      <th>7</th>\n",
       "      <td>527287</td>\n",
       "      <td>2015-12-03</td>\n",
       "      <td>Direct</td>\n",
       "      <td>Web</td>\n",
       "      <td>EN</td>\n",
       "      <td>NaN</td>\n",
       "      <td>Chrome</td>\n",
       "      <td>0</td>\n",
       "      <td>0</td>\n",
       "    </tr>\n",
       "    <tr>\n",
       "      <th>8</th>\n",
       "      <td>261625</td>\n",
       "      <td>2015-12-04</td>\n",
       "      <td>Direct</td>\n",
       "      <td>Mobile</td>\n",
       "      <td>ES</td>\n",
       "      <td>NaN</td>\n",
       "      <td>Android_App</td>\n",
       "      <td>0</td>\n",
       "      <td>1</td>\n",
       "    </tr>\n",
       "    <tr>\n",
       "      <th>9</th>\n",
       "      <td>10427</td>\n",
       "      <td>2015-12-04</td>\n",
       "      <td>Ads</td>\n",
       "      <td>Mobile</td>\n",
       "      <td>ES</td>\n",
       "      <td>Facebook</td>\n",
       "      <td>Android_App</td>\n",
       "      <td>0</td>\n",
       "      <td>0</td>\n",
       "    </tr>\n",
       "  </tbody>\n",
       "</table>\n",
       "</div>"
      ],
      "text/plain": [
       "   user_id        date  source  device browser_language ads_channel  \\\n",
       "0   315281  2015-12-03  Direct     Web               ES         NaN   \n",
       "1   497851  2015-12-04     Ads     Web               ES      Google   \n",
       "2   848402  2015-12-04     Ads     Web               ES    Facebook   \n",
       "3   290051  2015-12-03     Ads  Mobile            Other    Facebook   \n",
       "4   548435  2015-11-30     Ads     Web               ES      Google   \n",
       "5   540675  2015-12-03  Direct  Mobile               ES         NaN   \n",
       "6   863394  2015-12-04     SEO  Mobile            Other         NaN   \n",
       "7   527287  2015-12-03  Direct     Web               EN         NaN   \n",
       "8   261625  2015-12-04  Direct  Mobile               ES         NaN   \n",
       "9    10427  2015-12-04     Ads  Mobile               ES    Facebook   \n",
       "\n",
       "       browser  conversion  test  \n",
       "0           IE           1     0  \n",
       "1           IE           0     1  \n",
       "2       Chrome           0     0  \n",
       "3  Android_App           0     1  \n",
       "4      FireFox           0     1  \n",
       "5  Android_App           0     1  \n",
       "6  Android_App           0     0  \n",
       "7       Chrome           0     0  \n",
       "8  Android_App           0     1  \n",
       "9  Android_App           0     0  "
      ]
     },
     "execution_count": 17,
     "metadata": {},
     "output_type": "execute_result"
    }
   ],
   "source": [
    "test_data.head(n=10)"
   ]
  },
  {
   "cell_type": "code",
   "execution_count": 19,
   "metadata": {},
   "outputs": [
    {
     "data": {
      "text/html": [
       "<div>\n",
       "<style scoped>\n",
       "    .dataframe tbody tr th:only-of-type {\n",
       "        vertical-align: middle;\n",
       "    }\n",
       "\n",
       "    .dataframe tbody tr th {\n",
       "        vertical-align: top;\n",
       "    }\n",
       "\n",
       "    .dataframe thead th {\n",
       "        text-align: right;\n",
       "    }\n",
       "</style>\n",
       "<table border=\"1\" class=\"dataframe\">\n",
       "  <thead>\n",
       "    <tr style=\"text-align: right;\">\n",
       "      <th></th>\n",
       "      <th>user_id</th>\n",
       "      <th>conversion</th>\n",
       "      <th>test</th>\n",
       "    </tr>\n",
       "  </thead>\n",
       "  <tbody>\n",
       "    <tr>\n",
       "      <th>count</th>\n",
       "      <td>453321.000000</td>\n",
       "      <td>453321.000000</td>\n",
       "      <td>453321.000000</td>\n",
       "    </tr>\n",
       "    <tr>\n",
       "      <th>mean</th>\n",
       "      <td>499937.514728</td>\n",
       "      <td>0.049579</td>\n",
       "      <td>0.476446</td>\n",
       "    </tr>\n",
       "    <tr>\n",
       "      <th>std</th>\n",
       "      <td>288665.193436</td>\n",
       "      <td>0.217073</td>\n",
       "      <td>0.499445</td>\n",
       "    </tr>\n",
       "    <tr>\n",
       "      <th>min</th>\n",
       "      <td>1.000000</td>\n",
       "      <td>0.000000</td>\n",
       "      <td>0.000000</td>\n",
       "    </tr>\n",
       "    <tr>\n",
       "      <th>25%</th>\n",
       "      <td>249816.000000</td>\n",
       "      <td>0.000000</td>\n",
       "      <td>0.000000</td>\n",
       "    </tr>\n",
       "    <tr>\n",
       "      <th>50%</th>\n",
       "      <td>500019.000000</td>\n",
       "      <td>0.000000</td>\n",
       "      <td>0.000000</td>\n",
       "    </tr>\n",
       "    <tr>\n",
       "      <th>75%</th>\n",
       "      <td>749522.000000</td>\n",
       "      <td>0.000000</td>\n",
       "      <td>1.000000</td>\n",
       "    </tr>\n",
       "    <tr>\n",
       "      <th>max</th>\n",
       "      <td>1000000.000000</td>\n",
       "      <td>1.000000</td>\n",
       "      <td>1.000000</td>\n",
       "    </tr>\n",
       "  </tbody>\n",
       "</table>\n",
       "</div>"
      ],
      "text/plain": [
       "              user_id     conversion           test\n",
       "count   453321.000000  453321.000000  453321.000000\n",
       "mean    499937.514728       0.049579       0.476446\n",
       "std     288665.193436       0.217073       0.499445\n",
       "min          1.000000       0.000000       0.000000\n",
       "25%     249816.000000       0.000000       0.000000\n",
       "50%     500019.000000       0.000000       0.000000\n",
       "75%     749522.000000       0.000000       1.000000\n",
       "max    1000000.000000       1.000000       1.000000"
      ]
     },
     "execution_count": 19,
     "metadata": {},
     "output_type": "execute_result"
    }
   ],
   "source": [
    "test_data.describe()"
   ]
  },
  {
   "cell_type": "code",
   "execution_count": 23,
   "metadata": {},
   "outputs": [],
   "source": [
    "user_data = pd.read_csv('/Users/nehamangal/GitHub/Data Mask - Take Home Challenges/data_mask_take_home_challenges/ML Questions/Prob2/Translation_Test/user_table.csv')"
   ]
  },
  {
   "cell_type": "code",
   "execution_count": 24,
   "metadata": {},
   "outputs": [
    {
     "data": {
      "text/html": [
       "<div>\n",
       "<style scoped>\n",
       "    .dataframe tbody tr th:only-of-type {\n",
       "        vertical-align: middle;\n",
       "    }\n",
       "\n",
       "    .dataframe tbody tr th {\n",
       "        vertical-align: top;\n",
       "    }\n",
       "\n",
       "    .dataframe thead th {\n",
       "        text-align: right;\n",
       "    }\n",
       "</style>\n",
       "<table border=\"1\" class=\"dataframe\">\n",
       "  <thead>\n",
       "    <tr style=\"text-align: right;\">\n",
       "      <th></th>\n",
       "      <th>user_id</th>\n",
       "      <th>sex</th>\n",
       "      <th>age</th>\n",
       "      <th>country</th>\n",
       "    </tr>\n",
       "  </thead>\n",
       "  <tbody>\n",
       "    <tr>\n",
       "      <th>0</th>\n",
       "      <td>765821</td>\n",
       "      <td>M</td>\n",
       "      <td>20</td>\n",
       "      <td>Mexico</td>\n",
       "    </tr>\n",
       "    <tr>\n",
       "      <th>1</th>\n",
       "      <td>343561</td>\n",
       "      <td>F</td>\n",
       "      <td>27</td>\n",
       "      <td>Nicaragua</td>\n",
       "    </tr>\n",
       "    <tr>\n",
       "      <th>2</th>\n",
       "      <td>118744</td>\n",
       "      <td>M</td>\n",
       "      <td>23</td>\n",
       "      <td>Colombia</td>\n",
       "    </tr>\n",
       "    <tr>\n",
       "      <th>3</th>\n",
       "      <td>987753</td>\n",
       "      <td>F</td>\n",
       "      <td>27</td>\n",
       "      <td>Venezuela</td>\n",
       "    </tr>\n",
       "    <tr>\n",
       "      <th>4</th>\n",
       "      <td>554597</td>\n",
       "      <td>F</td>\n",
       "      <td>20</td>\n",
       "      <td>Spain</td>\n",
       "    </tr>\n",
       "    <tr>\n",
       "      <th>5</th>\n",
       "      <td>62371</td>\n",
       "      <td>M</td>\n",
       "      <td>29</td>\n",
       "      <td>Ecuador</td>\n",
       "    </tr>\n",
       "    <tr>\n",
       "      <th>6</th>\n",
       "      <td>987967</td>\n",
       "      <td>M</td>\n",
       "      <td>31</td>\n",
       "      <td>Spain</td>\n",
       "    </tr>\n",
       "    <tr>\n",
       "      <th>7</th>\n",
       "      <td>499510</td>\n",
       "      <td>F</td>\n",
       "      <td>29</td>\n",
       "      <td>Paraguay</td>\n",
       "    </tr>\n",
       "    <tr>\n",
       "      <th>8</th>\n",
       "      <td>364726</td>\n",
       "      <td>F</td>\n",
       "      <td>29</td>\n",
       "      <td>Colombia</td>\n",
       "    </tr>\n",
       "    <tr>\n",
       "      <th>9</th>\n",
       "      <td>572551</td>\n",
       "      <td>M</td>\n",
       "      <td>21</td>\n",
       "      <td>Bolivia</td>\n",
       "    </tr>\n",
       "  </tbody>\n",
       "</table>\n",
       "</div>"
      ],
      "text/plain": [
       "   user_id sex  age    country\n",
       "0   765821   M   20     Mexico\n",
       "1   343561   F   27  Nicaragua\n",
       "2   118744   M   23   Colombia\n",
       "3   987753   F   27  Venezuela\n",
       "4   554597   F   20      Spain\n",
       "5    62371   M   29    Ecuador\n",
       "6   987967   M   31      Spain\n",
       "7   499510   F   29   Paraguay\n",
       "8   364726   F   29   Colombia\n",
       "9   572551   M   21    Bolivia"
      ]
     },
     "execution_count": 24,
     "metadata": {},
     "output_type": "execute_result"
    }
   ],
   "source": [
    "user_data.head(n=10)"
   ]
  },
  {
   "cell_type": "code",
   "execution_count": 25,
   "metadata": {},
   "outputs": [
    {
     "data": {
      "text/html": [
       "<div>\n",
       "<style scoped>\n",
       "    .dataframe tbody tr th:only-of-type {\n",
       "        vertical-align: middle;\n",
       "    }\n",
       "\n",
       "    .dataframe tbody tr th {\n",
       "        vertical-align: top;\n",
       "    }\n",
       "\n",
       "    .dataframe thead th {\n",
       "        text-align: right;\n",
       "    }\n",
       "</style>\n",
       "<table border=\"1\" class=\"dataframe\">\n",
       "  <thead>\n",
       "    <tr style=\"text-align: right;\">\n",
       "      <th></th>\n",
       "      <th>user_id</th>\n",
       "      <th>age</th>\n",
       "    </tr>\n",
       "  </thead>\n",
       "  <tbody>\n",
       "    <tr>\n",
       "      <th>count</th>\n",
       "      <td>452867.000000</td>\n",
       "      <td>452867.000000</td>\n",
       "    </tr>\n",
       "    <tr>\n",
       "      <th>mean</th>\n",
       "      <td>499944.805166</td>\n",
       "      <td>27.130740</td>\n",
       "    </tr>\n",
       "    <tr>\n",
       "      <th>std</th>\n",
       "      <td>288676.264784</td>\n",
       "      <td>6.776678</td>\n",
       "    </tr>\n",
       "    <tr>\n",
       "      <th>min</th>\n",
       "      <td>1.000000</td>\n",
       "      <td>18.000000</td>\n",
       "    </tr>\n",
       "    <tr>\n",
       "      <th>25%</th>\n",
       "      <td>249819.000000</td>\n",
       "      <td>22.000000</td>\n",
       "    </tr>\n",
       "    <tr>\n",
       "      <th>50%</th>\n",
       "      <td>500019.000000</td>\n",
       "      <td>26.000000</td>\n",
       "    </tr>\n",
       "    <tr>\n",
       "      <th>75%</th>\n",
       "      <td>749543.000000</td>\n",
       "      <td>31.000000</td>\n",
       "    </tr>\n",
       "    <tr>\n",
       "      <th>max</th>\n",
       "      <td>1000000.000000</td>\n",
       "      <td>70.000000</td>\n",
       "    </tr>\n",
       "  </tbody>\n",
       "</table>\n",
       "</div>"
      ],
      "text/plain": [
       "              user_id            age\n",
       "count   452867.000000  452867.000000\n",
       "mean    499944.805166      27.130740\n",
       "std     288676.264784       6.776678\n",
       "min          1.000000      18.000000\n",
       "25%     249819.000000      22.000000\n",
       "50%     500019.000000      26.000000\n",
       "75%     749543.000000      31.000000\n",
       "max    1000000.000000      70.000000"
      ]
     },
     "execution_count": 25,
     "metadata": {},
     "output_type": "execute_result"
    }
   ],
   "source": [
    "user_data.describe()"
   ]
  },
  {
   "cell_type": "code",
   "execution_count": 27,
   "metadata": {},
   "outputs": [],
   "source": [
    "?pd.merge"
   ]
  },
  {
   "cell_type": "code",
   "execution_count": 59,
   "metadata": {},
   "outputs": [],
   "source": [
    "data = pd.merge(test_data, user_data, on = 'user_id', how = 'outer', indicator = True)"
   ]
  },
  {
   "cell_type": "code",
   "execution_count": 68,
   "metadata": {},
   "outputs": [],
   "source": [
    "data = data.sort_values(by = ['user_id'], ignore_index = True)"
   ]
  },
  {
   "cell_type": "code",
   "execution_count": 69,
   "metadata": {},
   "outputs": [
    {
     "data": {
      "text/html": [
       "<div>\n",
       "<style scoped>\n",
       "    .dataframe tbody tr th:only-of-type {\n",
       "        vertical-align: middle;\n",
       "    }\n",
       "\n",
       "    .dataframe tbody tr th {\n",
       "        vertical-align: top;\n",
       "    }\n",
       "\n",
       "    .dataframe thead th {\n",
       "        text-align: right;\n",
       "    }\n",
       "</style>\n",
       "<table border=\"1\" class=\"dataframe\">\n",
       "  <thead>\n",
       "    <tr style=\"text-align: right;\">\n",
       "      <th></th>\n",
       "      <th>user_id</th>\n",
       "      <th>date</th>\n",
       "      <th>source</th>\n",
       "      <th>device</th>\n",
       "      <th>browser_language</th>\n",
       "      <th>ads_channel</th>\n",
       "      <th>browser</th>\n",
       "      <th>conversion</th>\n",
       "      <th>test</th>\n",
       "      <th>sex</th>\n",
       "      <th>age</th>\n",
       "      <th>country</th>\n",
       "      <th>_merge</th>\n",
       "    </tr>\n",
       "  </thead>\n",
       "  <tbody>\n",
       "    <tr>\n",
       "      <th>0</th>\n",
       "      <td>1</td>\n",
       "      <td>2015-12-02</td>\n",
       "      <td>SEO</td>\n",
       "      <td>Web</td>\n",
       "      <td>EN</td>\n",
       "      <td>NaN</td>\n",
       "      <td>Chrome</td>\n",
       "      <td>0</td>\n",
       "      <td>0</td>\n",
       "      <td>M</td>\n",
       "      <td>38.0</td>\n",
       "      <td>Chile</td>\n",
       "      <td>both</td>\n",
       "    </tr>\n",
       "    <tr>\n",
       "      <th>1</th>\n",
       "      <td>2</td>\n",
       "      <td>2015-11-30</td>\n",
       "      <td>SEO</td>\n",
       "      <td>Mobile</td>\n",
       "      <td>ES</td>\n",
       "      <td>NaN</td>\n",
       "      <td>Android_App</td>\n",
       "      <td>0</td>\n",
       "      <td>0</td>\n",
       "      <td>M</td>\n",
       "      <td>27.0</td>\n",
       "      <td>Colombia</td>\n",
       "      <td>both</td>\n",
       "    </tr>\n",
       "    <tr>\n",
       "      <th>2</th>\n",
       "      <td>3</td>\n",
       "      <td>2015-12-03</td>\n",
       "      <td>SEO</td>\n",
       "      <td>Mobile</td>\n",
       "      <td>ES</td>\n",
       "      <td>NaN</td>\n",
       "      <td>Iphone_App</td>\n",
       "      <td>0</td>\n",
       "      <td>1</td>\n",
       "      <td>M</td>\n",
       "      <td>18.0</td>\n",
       "      <td>Guatemala</td>\n",
       "      <td>both</td>\n",
       "    </tr>\n",
       "    <tr>\n",
       "      <th>3</th>\n",
       "      <td>5</td>\n",
       "      <td>2015-11-30</td>\n",
       "      <td>Ads</td>\n",
       "      <td>Web</td>\n",
       "      <td>ES</td>\n",
       "      <td>Facebook</td>\n",
       "      <td>Chrome</td>\n",
       "      <td>0</td>\n",
       "      <td>1</td>\n",
       "      <td>M</td>\n",
       "      <td>22.0</td>\n",
       "      <td>Argentina</td>\n",
       "      <td>both</td>\n",
       "    </tr>\n",
       "    <tr>\n",
       "      <th>4</th>\n",
       "      <td>8</td>\n",
       "      <td>2015-12-03</td>\n",
       "      <td>Ads</td>\n",
       "      <td>Mobile</td>\n",
       "      <td>ES</td>\n",
       "      <td>Google</td>\n",
       "      <td>Android_App</td>\n",
       "      <td>0</td>\n",
       "      <td>1</td>\n",
       "      <td>M</td>\n",
       "      <td>19.0</td>\n",
       "      <td>Venezuela</td>\n",
       "      <td>both</td>\n",
       "    </tr>\n",
       "    <tr>\n",
       "      <th>...</th>\n",
       "      <td>...</td>\n",
       "      <td>...</td>\n",
       "      <td>...</td>\n",
       "      <td>...</td>\n",
       "      <td>...</td>\n",
       "      <td>...</td>\n",
       "      <td>...</td>\n",
       "      <td>...</td>\n",
       "      <td>...</td>\n",
       "      <td>...</td>\n",
       "      <td>...</td>\n",
       "      <td>...</td>\n",
       "      <td>...</td>\n",
       "    </tr>\n",
       "    <tr>\n",
       "      <th>453316</th>\n",
       "      <td>999993</td>\n",
       "      <td>2015-12-03</td>\n",
       "      <td>Ads</td>\n",
       "      <td>Web</td>\n",
       "      <td>ES</td>\n",
       "      <td>Yahoo</td>\n",
       "      <td>Chrome</td>\n",
       "      <td>0</td>\n",
       "      <td>0</td>\n",
       "      <td>M</td>\n",
       "      <td>30.0</td>\n",
       "      <td>Venezuela</td>\n",
       "      <td>both</td>\n",
       "    </tr>\n",
       "    <tr>\n",
       "      <th>453317</th>\n",
       "      <td>999996</td>\n",
       "      <td>2015-12-02</td>\n",
       "      <td>Direct</td>\n",
       "      <td>Mobile</td>\n",
       "      <td>EN</td>\n",
       "      <td>NaN</td>\n",
       "      <td>Iphone_App</td>\n",
       "      <td>0</td>\n",
       "      <td>0</td>\n",
       "      <td>M</td>\n",
       "      <td>28.0</td>\n",
       "      <td>Costa Rica</td>\n",
       "      <td>both</td>\n",
       "    </tr>\n",
       "    <tr>\n",
       "      <th>453318</th>\n",
       "      <td>999998</td>\n",
       "      <td>2015-12-03</td>\n",
       "      <td>Direct</td>\n",
       "      <td>Web</td>\n",
       "      <td>ES</td>\n",
       "      <td>NaN</td>\n",
       "      <td>IE</td>\n",
       "      <td>0</td>\n",
       "      <td>1</td>\n",
       "      <td>F</td>\n",
       "      <td>45.0</td>\n",
       "      <td>Argentina</td>\n",
       "      <td>both</td>\n",
       "    </tr>\n",
       "    <tr>\n",
       "      <th>453319</th>\n",
       "      <td>999999</td>\n",
       "      <td>2015-11-30</td>\n",
       "      <td>Ads</td>\n",
       "      <td>Mobile</td>\n",
       "      <td>EN</td>\n",
       "      <td>Facebook</td>\n",
       "      <td>Android_App</td>\n",
       "      <td>0</td>\n",
       "      <td>1</td>\n",
       "      <td>M</td>\n",
       "      <td>23.0</td>\n",
       "      <td>Venezuela</td>\n",
       "      <td>both</td>\n",
       "    </tr>\n",
       "    <tr>\n",
       "      <th>453320</th>\n",
       "      <td>1000000</td>\n",
       "      <td>2015-12-01</td>\n",
       "      <td>Ads</td>\n",
       "      <td>Mobile</td>\n",
       "      <td>ES</td>\n",
       "      <td>Facebook</td>\n",
       "      <td>Android_App</td>\n",
       "      <td>0</td>\n",
       "      <td>0</td>\n",
       "      <td>F</td>\n",
       "      <td>22.0</td>\n",
       "      <td>Colombia</td>\n",
       "      <td>both</td>\n",
       "    </tr>\n",
       "  </tbody>\n",
       "</table>\n",
       "<p>453321 rows × 13 columns</p>\n",
       "</div>"
      ],
      "text/plain": [
       "        user_id        date  source  device browser_language ads_channel  \\\n",
       "0             1  2015-12-02     SEO     Web               EN         NaN   \n",
       "1             2  2015-11-30     SEO  Mobile               ES         NaN   \n",
       "2             3  2015-12-03     SEO  Mobile               ES         NaN   \n",
       "3             5  2015-11-30     Ads     Web               ES    Facebook   \n",
       "4             8  2015-12-03     Ads  Mobile               ES      Google   \n",
       "...         ...         ...     ...     ...              ...         ...   \n",
       "453316   999993  2015-12-03     Ads     Web               ES       Yahoo   \n",
       "453317   999996  2015-12-02  Direct  Mobile               EN         NaN   \n",
       "453318   999998  2015-12-03  Direct     Web               ES         NaN   \n",
       "453319   999999  2015-11-30     Ads  Mobile               EN    Facebook   \n",
       "453320  1000000  2015-12-01     Ads  Mobile               ES    Facebook   \n",
       "\n",
       "            browser  conversion  test sex   age     country _merge  \n",
       "0            Chrome           0     0   M  38.0       Chile   both  \n",
       "1       Android_App           0     0   M  27.0    Colombia   both  \n",
       "2        Iphone_App           0     1   M  18.0   Guatemala   both  \n",
       "3            Chrome           0     1   M  22.0   Argentina   both  \n",
       "4       Android_App           0     1   M  19.0   Venezuela   both  \n",
       "...             ...         ...   ...  ..   ...         ...    ...  \n",
       "453316       Chrome           0     0   M  30.0   Venezuela   both  \n",
       "453317   Iphone_App           0     0   M  28.0  Costa Rica   both  \n",
       "453318           IE           0     1   F  45.0   Argentina   both  \n",
       "453319  Android_App           0     1   M  23.0   Venezuela   both  \n",
       "453320  Android_App           0     0   F  22.0    Colombia   both  \n",
       "\n",
       "[453321 rows x 13 columns]"
      ]
     },
     "execution_count": 69,
     "metadata": {},
     "output_type": "execute_result"
    }
   ],
   "source": [
    "data"
   ]
  },
  {
   "cell_type": "markdown",
   "metadata": {},
   "source": [
    "**checking if there is some data which exists in user_data and does not exist in test_data**"
   ]
  },
  {
   "cell_type": "code",
   "execution_count": 72,
   "metadata": {},
   "outputs": [],
   "source": [
    "merge_test = user_data.merge(test_data, how = 'left', on = 'user_id', indicator = True)"
   ]
  },
  {
   "cell_type": "code",
   "execution_count": 75,
   "metadata": {},
   "outputs": [
    {
     "data": {
      "text/plain": [
       "0"
      ]
     },
     "execution_count": 75,
     "metadata": {},
     "output_type": "execute_result"
    }
   ],
   "source": [
    "sum(merge_test['date'].isna())"
   ]
  },
  {
   "cell_type": "code",
   "execution_count": 78,
   "metadata": {},
   "outputs": [
    {
     "data": {
      "text/plain": [
       "[both]\n",
       "Categories (1, object): [both]"
      ]
     },
     "execution_count": 78,
     "metadata": {},
     "output_type": "execute_result"
    }
   ],
   "source": [
    "merge_test['_merge'].unique()"
   ]
  },
  {
   "cell_type": "code",
   "execution_count": 82,
   "metadata": {},
   "outputs": [],
   "source": [
    "data_null = data[data['country'].isnull()]"
   ]
  },
  {
   "cell_type": "code",
   "execution_count": 103,
   "metadata": {},
   "outputs": [],
   "source": [
    "data_2 = pd.merge(test_data, user_data, on = 'user_id', how = 'inner', indicator = True)"
   ]
  },
  {
   "cell_type": "code",
   "execution_count": 108,
   "metadata": {},
   "outputs": [],
   "source": [
    "data_2['date'] = pd.to_datetime(data_2['date'])"
   ]
  },
  {
   "cell_type": "code",
   "execution_count": 106,
   "metadata": {},
   "outputs": [
    {
     "data": {
      "text/html": [
       "<div>\n",
       "<style scoped>\n",
       "    .dataframe tbody tr th:only-of-type {\n",
       "        vertical-align: middle;\n",
       "    }\n",
       "\n",
       "    .dataframe tbody tr th {\n",
       "        vertical-align: top;\n",
       "    }\n",
       "\n",
       "    .dataframe thead th {\n",
       "        text-align: right;\n",
       "    }\n",
       "</style>\n",
       "<table border=\"1\" class=\"dataframe\">\n",
       "  <thead>\n",
       "    <tr style=\"text-align: right;\">\n",
       "      <th></th>\n",
       "      <th>user_id</th>\n",
       "      <th>date</th>\n",
       "      <th>source</th>\n",
       "      <th>device</th>\n",
       "      <th>browser_language</th>\n",
       "      <th>ads_channel</th>\n",
       "      <th>browser</th>\n",
       "      <th>conversion</th>\n",
       "      <th>test</th>\n",
       "      <th>sex</th>\n",
       "      <th>age</th>\n",
       "      <th>country</th>\n",
       "      <th>_merge</th>\n",
       "    </tr>\n",
       "  </thead>\n",
       "  <tbody>\n",
       "    <tr>\n",
       "      <th>count</th>\n",
       "      <td>452867.000000</td>\n",
       "      <td>452867</td>\n",
       "      <td>452867</td>\n",
       "      <td>452867</td>\n",
       "      <td>452867</td>\n",
       "      <td>181693</td>\n",
       "      <td>452867</td>\n",
       "      <td>452867.000000</td>\n",
       "      <td>452867.000000</td>\n",
       "      <td>452867</td>\n",
       "      <td>452867.000000</td>\n",
       "      <td>452867</td>\n",
       "      <td>452867</td>\n",
       "    </tr>\n",
       "    <tr>\n",
       "      <th>unique</th>\n",
       "      <td>NaN</td>\n",
       "      <td>5</td>\n",
       "      <td>3</td>\n",
       "      <td>2</td>\n",
       "      <td>3</td>\n",
       "      <td>5</td>\n",
       "      <td>7</td>\n",
       "      <td>NaN</td>\n",
       "      <td>NaN</td>\n",
       "      <td>2</td>\n",
       "      <td>NaN</td>\n",
       "      <td>17</td>\n",
       "      <td>1</td>\n",
       "    </tr>\n",
       "    <tr>\n",
       "      <th>top</th>\n",
       "      <td>NaN</td>\n",
       "      <td>2015-12-04 00:00:00</td>\n",
       "      <td>Ads</td>\n",
       "      <td>Web</td>\n",
       "      <td>ES</td>\n",
       "      <td>Facebook</td>\n",
       "      <td>Android_App</td>\n",
       "      <td>NaN</td>\n",
       "      <td>NaN</td>\n",
       "      <td>M</td>\n",
       "      <td>NaN</td>\n",
       "      <td>Mexico</td>\n",
       "      <td>both</td>\n",
       "    </tr>\n",
       "    <tr>\n",
       "      <th>freq</th>\n",
       "      <td>NaN</td>\n",
       "      <td>141024</td>\n",
       "      <td>181693</td>\n",
       "      <td>251316</td>\n",
       "      <td>377160</td>\n",
       "      <td>68358</td>\n",
       "      <td>154977</td>\n",
       "      <td>NaN</td>\n",
       "      <td>NaN</td>\n",
       "      <td>264485</td>\n",
       "      <td>NaN</td>\n",
       "      <td>128484</td>\n",
       "      <td>452867</td>\n",
       "    </tr>\n",
       "    <tr>\n",
       "      <th>first</th>\n",
       "      <td>NaN</td>\n",
       "      <td>2015-11-30 00:00:00</td>\n",
       "      <td>NaN</td>\n",
       "      <td>NaN</td>\n",
       "      <td>NaN</td>\n",
       "      <td>NaN</td>\n",
       "      <td>NaN</td>\n",
       "      <td>NaN</td>\n",
       "      <td>NaN</td>\n",
       "      <td>NaN</td>\n",
       "      <td>NaN</td>\n",
       "      <td>NaN</td>\n",
       "      <td>NaN</td>\n",
       "    </tr>\n",
       "    <tr>\n",
       "      <th>last</th>\n",
       "      <td>NaN</td>\n",
       "      <td>2015-12-04 00:00:00</td>\n",
       "      <td>NaN</td>\n",
       "      <td>NaN</td>\n",
       "      <td>NaN</td>\n",
       "      <td>NaN</td>\n",
       "      <td>NaN</td>\n",
       "      <td>NaN</td>\n",
       "      <td>NaN</td>\n",
       "      <td>NaN</td>\n",
       "      <td>NaN</td>\n",
       "      <td>NaN</td>\n",
       "      <td>NaN</td>\n",
       "    </tr>\n",
       "    <tr>\n",
       "      <th>mean</th>\n",
       "      <td>499944.805166</td>\n",
       "      <td>NaN</td>\n",
       "      <td>NaN</td>\n",
       "      <td>NaN</td>\n",
       "      <td>NaN</td>\n",
       "      <td>NaN</td>\n",
       "      <td>NaN</td>\n",
       "      <td>0.049560</td>\n",
       "      <td>0.476462</td>\n",
       "      <td>NaN</td>\n",
       "      <td>27.130740</td>\n",
       "      <td>NaN</td>\n",
       "      <td>NaN</td>\n",
       "    </tr>\n",
       "    <tr>\n",
       "      <th>std</th>\n",
       "      <td>288676.264784</td>\n",
       "      <td>NaN</td>\n",
       "      <td>NaN</td>\n",
       "      <td>NaN</td>\n",
       "      <td>NaN</td>\n",
       "      <td>NaN</td>\n",
       "      <td>NaN</td>\n",
       "      <td>0.217034</td>\n",
       "      <td>0.499446</td>\n",
       "      <td>NaN</td>\n",
       "      <td>6.776678</td>\n",
       "      <td>NaN</td>\n",
       "      <td>NaN</td>\n",
       "    </tr>\n",
       "    <tr>\n",
       "      <th>min</th>\n",
       "      <td>1.000000</td>\n",
       "      <td>NaN</td>\n",
       "      <td>NaN</td>\n",
       "      <td>NaN</td>\n",
       "      <td>NaN</td>\n",
       "      <td>NaN</td>\n",
       "      <td>NaN</td>\n",
       "      <td>0.000000</td>\n",
       "      <td>0.000000</td>\n",
       "      <td>NaN</td>\n",
       "      <td>18.000000</td>\n",
       "      <td>NaN</td>\n",
       "      <td>NaN</td>\n",
       "    </tr>\n",
       "    <tr>\n",
       "      <th>25%</th>\n",
       "      <td>249819.000000</td>\n",
       "      <td>NaN</td>\n",
       "      <td>NaN</td>\n",
       "      <td>NaN</td>\n",
       "      <td>NaN</td>\n",
       "      <td>NaN</td>\n",
       "      <td>NaN</td>\n",
       "      <td>0.000000</td>\n",
       "      <td>0.000000</td>\n",
       "      <td>NaN</td>\n",
       "      <td>22.000000</td>\n",
       "      <td>NaN</td>\n",
       "      <td>NaN</td>\n",
       "    </tr>\n",
       "    <tr>\n",
       "      <th>50%</th>\n",
       "      <td>500019.000000</td>\n",
       "      <td>NaN</td>\n",
       "      <td>NaN</td>\n",
       "      <td>NaN</td>\n",
       "      <td>NaN</td>\n",
       "      <td>NaN</td>\n",
       "      <td>NaN</td>\n",
       "      <td>0.000000</td>\n",
       "      <td>0.000000</td>\n",
       "      <td>NaN</td>\n",
       "      <td>26.000000</td>\n",
       "      <td>NaN</td>\n",
       "      <td>NaN</td>\n",
       "    </tr>\n",
       "    <tr>\n",
       "      <th>75%</th>\n",
       "      <td>749543.000000</td>\n",
       "      <td>NaN</td>\n",
       "      <td>NaN</td>\n",
       "      <td>NaN</td>\n",
       "      <td>NaN</td>\n",
       "      <td>NaN</td>\n",
       "      <td>NaN</td>\n",
       "      <td>0.000000</td>\n",
       "      <td>1.000000</td>\n",
       "      <td>NaN</td>\n",
       "      <td>31.000000</td>\n",
       "      <td>NaN</td>\n",
       "      <td>NaN</td>\n",
       "    </tr>\n",
       "    <tr>\n",
       "      <th>max</th>\n",
       "      <td>1000000.000000</td>\n",
       "      <td>NaN</td>\n",
       "      <td>NaN</td>\n",
       "      <td>NaN</td>\n",
       "      <td>NaN</td>\n",
       "      <td>NaN</td>\n",
       "      <td>NaN</td>\n",
       "      <td>1.000000</td>\n",
       "      <td>1.000000</td>\n",
       "      <td>NaN</td>\n",
       "      <td>70.000000</td>\n",
       "      <td>NaN</td>\n",
       "      <td>NaN</td>\n",
       "    </tr>\n",
       "  </tbody>\n",
       "</table>\n",
       "</div>"
      ],
      "text/plain": [
       "               user_id                 date  source  device browser_language  \\\n",
       "count    452867.000000               452867  452867  452867           452867   \n",
       "unique             NaN                    5       3       2                3   \n",
       "top                NaN  2015-12-04 00:00:00     Ads     Web               ES   \n",
       "freq               NaN               141024  181693  251316           377160   \n",
       "first              NaN  2015-11-30 00:00:00     NaN     NaN              NaN   \n",
       "last               NaN  2015-12-04 00:00:00     NaN     NaN              NaN   \n",
       "mean     499944.805166                  NaN     NaN     NaN              NaN   \n",
       "std      288676.264784                  NaN     NaN     NaN              NaN   \n",
       "min           1.000000                  NaN     NaN     NaN              NaN   \n",
       "25%      249819.000000                  NaN     NaN     NaN              NaN   \n",
       "50%      500019.000000                  NaN     NaN     NaN              NaN   \n",
       "75%      749543.000000                  NaN     NaN     NaN              NaN   \n",
       "max     1000000.000000                  NaN     NaN     NaN              NaN   \n",
       "\n",
       "       ads_channel      browser     conversion           test     sex  \\\n",
       "count       181693       452867  452867.000000  452867.000000  452867   \n",
       "unique           5            7            NaN            NaN       2   \n",
       "top       Facebook  Android_App            NaN            NaN       M   \n",
       "freq         68358       154977            NaN            NaN  264485   \n",
       "first          NaN          NaN            NaN            NaN     NaN   \n",
       "last           NaN          NaN            NaN            NaN     NaN   \n",
       "mean           NaN          NaN       0.049560       0.476462     NaN   \n",
       "std            NaN          NaN       0.217034       0.499446     NaN   \n",
       "min            NaN          NaN       0.000000       0.000000     NaN   \n",
       "25%            NaN          NaN       0.000000       0.000000     NaN   \n",
       "50%            NaN          NaN       0.000000       0.000000     NaN   \n",
       "75%            NaN          NaN       0.000000       1.000000     NaN   \n",
       "max            NaN          NaN       1.000000       1.000000     NaN   \n",
       "\n",
       "                  age country  _merge  \n",
       "count   452867.000000  452867  452867  \n",
       "unique            NaN      17       1  \n",
       "top               NaN  Mexico    both  \n",
       "freq              NaN  128484  452867  \n",
       "first             NaN     NaN     NaN  \n",
       "last              NaN     NaN     NaN  \n",
       "mean        27.130740     NaN     NaN  \n",
       "std          6.776678     NaN     NaN  \n",
       "min         18.000000     NaN     NaN  \n",
       "25%         22.000000     NaN     NaN  \n",
       "50%         26.000000     NaN     NaN  \n",
       "75%         31.000000     NaN     NaN  \n",
       "max         70.000000     NaN     NaN  "
      ]
     },
     "execution_count": 106,
     "metadata": {},
     "output_type": "execute_result"
    }
   ],
   "source": [
    "data_2.describe(include=\"all\")"
   ]
  },
  {
   "cell_type": "code",
   "execution_count": 109,
   "metadata": {},
   "outputs": [
    {
     "data": {
      "text/plain": [
       "array(['ES', 'Other', 'EN'], dtype=object)"
      ]
     },
     "execution_count": 109,
     "metadata": {},
     "output_type": "execute_result"
    }
   ],
   "source": [
    "data_2.browser_language.unique()"
   ]
  },
  {
   "cell_type": "code",
   "execution_count": 115,
   "metadata": {},
   "outputs": [
    {
     "data": {
      "text/html": [
       "<div>\n",
       "<style scoped>\n",
       "    .dataframe tbody tr th:only-of-type {\n",
       "        vertical-align: middle;\n",
       "    }\n",
       "\n",
       "    .dataframe tbody tr th {\n",
       "        vertical-align: top;\n",
       "    }\n",
       "\n",
       "    .dataframe thead th {\n",
       "        text-align: right;\n",
       "    }\n",
       "</style>\n",
       "<table border=\"1\" class=\"dataframe\">\n",
       "  <thead>\n",
       "    <tr style=\"text-align: right;\">\n",
       "      <th></th>\n",
       "      <th>_merge</th>\n",
       "      <th>ads_channel</th>\n",
       "      <th>age</th>\n",
       "      <th>browser</th>\n",
       "      <th>conversion</th>\n",
       "      <th>country</th>\n",
       "      <th>date</th>\n",
       "      <th>device</th>\n",
       "      <th>sex</th>\n",
       "      <th>source</th>\n",
       "      <th>test</th>\n",
       "      <th>user_id</th>\n",
       "    </tr>\n",
       "    <tr>\n",
       "      <th>browser_language</th>\n",
       "      <th></th>\n",
       "      <th></th>\n",
       "      <th></th>\n",
       "      <th></th>\n",
       "      <th></th>\n",
       "      <th></th>\n",
       "      <th></th>\n",
       "      <th></th>\n",
       "      <th></th>\n",
       "      <th></th>\n",
       "      <th></th>\n",
       "      <th></th>\n",
       "    </tr>\n",
       "  </thead>\n",
       "  <tbody>\n",
       "    <tr>\n",
       "      <th>EN</th>\n",
       "      <td>NaN</td>\n",
       "      <td>NaN</td>\n",
       "      <td>27.130931</td>\n",
       "      <td>NaN</td>\n",
       "      <td>0.048384</td>\n",
       "      <td>NaN</td>\n",
       "      <td>NaN</td>\n",
       "      <td>NaN</td>\n",
       "      <td>NaN</td>\n",
       "      <td>NaN</td>\n",
       "      <td>0.477275</td>\n",
       "      <td>499943.704910</td>\n",
       "    </tr>\n",
       "    <tr>\n",
       "      <th>ES</th>\n",
       "      <td>NaN</td>\n",
       "      <td>NaN</td>\n",
       "      <td>27.127524</td>\n",
       "      <td>NaN</td>\n",
       "      <td>0.049759</td>\n",
       "      <td>NaN</td>\n",
       "      <td>NaN</td>\n",
       "      <td>NaN</td>\n",
       "      <td>NaN</td>\n",
       "      <td>NaN</td>\n",
       "      <td>0.476185</td>\n",
       "      <td>499972.229714</td>\n",
       "    </tr>\n",
       "    <tr>\n",
       "      <th>Other</th>\n",
       "      <td>NaN</td>\n",
       "      <td>NaN</td>\n",
       "      <td>27.225847</td>\n",
       "      <td>NaN</td>\n",
       "      <td>0.049493</td>\n",
       "      <td>NaN</td>\n",
       "      <td>NaN</td>\n",
       "      <td>NaN</td>\n",
       "      <td>NaN</td>\n",
       "      <td>NaN</td>\n",
       "      <td>0.480678</td>\n",
       "      <td>499131.213177</td>\n",
       "    </tr>\n",
       "  </tbody>\n",
       "</table>\n",
       "</div>"
      ],
      "text/plain": [
       "                  _merge  ads_channel        age  browser  conversion  \\\n",
       "browser_language                                                        \n",
       "EN                   NaN          NaN  27.130931      NaN    0.048384   \n",
       "ES                   NaN          NaN  27.127524      NaN    0.049759   \n",
       "Other                NaN          NaN  27.225847      NaN    0.049493   \n",
       "\n",
       "                  country  date  device  sex  source      test        user_id  \n",
       "browser_language                                                               \n",
       "EN                    NaN   NaN     NaN  NaN     NaN  0.477275  499943.704910  \n",
       "ES                    NaN   NaN     NaN  NaN     NaN  0.476185  499972.229714  \n",
       "Other                 NaN   NaN     NaN  NaN     NaN  0.480678  499131.213177  "
      ]
     },
     "execution_count": 115,
     "metadata": {},
     "output_type": "execute_result"
    }
   ],
   "source": [
    "data_2.groupby(['browser_language']).sum()/data_2.groupby(['browser_language']).count()"
   ]
  },
  {
   "cell_type": "code",
   "execution_count": 111,
   "metadata": {},
   "outputs": [
    {
     "data": {
      "text/html": [
       "<div>\n",
       "<style scoped>\n",
       "    .dataframe tbody tr th:only-of-type {\n",
       "        vertical-align: middle;\n",
       "    }\n",
       "\n",
       "    .dataframe tbody tr th {\n",
       "        vertical-align: top;\n",
       "    }\n",
       "\n",
       "    .dataframe thead th {\n",
       "        text-align: right;\n",
       "    }\n",
       "</style>\n",
       "<table border=\"1\" class=\"dataframe\">\n",
       "  <thead>\n",
       "    <tr style=\"text-align: right;\">\n",
       "      <th></th>\n",
       "      <th>user_id</th>\n",
       "      <th>date</th>\n",
       "      <th>source</th>\n",
       "      <th>device</th>\n",
       "      <th>ads_channel</th>\n",
       "      <th>browser</th>\n",
       "      <th>conversion</th>\n",
       "      <th>test</th>\n",
       "      <th>sex</th>\n",
       "      <th>age</th>\n",
       "      <th>country</th>\n",
       "      <th>_merge</th>\n",
       "    </tr>\n",
       "    <tr>\n",
       "      <th>browser_language</th>\n",
       "      <th></th>\n",
       "      <th></th>\n",
       "      <th></th>\n",
       "      <th></th>\n",
       "      <th></th>\n",
       "      <th></th>\n",
       "      <th></th>\n",
       "      <th></th>\n",
       "      <th></th>\n",
       "      <th></th>\n",
       "      <th></th>\n",
       "      <th></th>\n",
       "    </tr>\n",
       "  </thead>\n",
       "  <tbody>\n",
       "    <tr>\n",
       "      <th>EN</th>\n",
       "      <td>58</td>\n",
       "      <td>58</td>\n",
       "      <td>58</td>\n",
       "      <td>58</td>\n",
       "      <td>19</td>\n",
       "      <td>58</td>\n",
       "      <td>58</td>\n",
       "      <td>58</td>\n",
       "      <td>0</td>\n",
       "      <td>0</td>\n",
       "      <td>0</td>\n",
       "      <td>58</td>\n",
       "    </tr>\n",
       "    <tr>\n",
       "      <th>ES</th>\n",
       "      <td>387</td>\n",
       "      <td>387</td>\n",
       "      <td>387</td>\n",
       "      <td>387</td>\n",
       "      <td>162</td>\n",
       "      <td>387</td>\n",
       "      <td>387</td>\n",
       "      <td>387</td>\n",
       "      <td>0</td>\n",
       "      <td>0</td>\n",
       "      <td>0</td>\n",
       "      <td>387</td>\n",
       "    </tr>\n",
       "    <tr>\n",
       "      <th>Other</th>\n",
       "      <td>9</td>\n",
       "      <td>9</td>\n",
       "      <td>9</td>\n",
       "      <td>9</td>\n",
       "      <td>3</td>\n",
       "      <td>9</td>\n",
       "      <td>9</td>\n",
       "      <td>9</td>\n",
       "      <td>0</td>\n",
       "      <td>0</td>\n",
       "      <td>0</td>\n",
       "      <td>9</td>\n",
       "    </tr>\n",
       "  </tbody>\n",
       "</table>\n",
       "</div>"
      ],
      "text/plain": [
       "                  user_id  date  source  device  ads_channel  browser  \\\n",
       "browser_language                                                        \n",
       "EN                     58    58      58      58           19       58   \n",
       "ES                    387   387     387     387          162      387   \n",
       "Other                   9     9       9       9            3        9   \n",
       "\n",
       "                  conversion  test  sex  age  country  _merge  \n",
       "browser_language                                               \n",
       "EN                        58    58    0    0        0      58  \n",
       "ES                       387   387    0    0        0     387  \n",
       "Other                      9     9    0    0        0       9  "
      ]
     },
     "execution_count": 111,
     "metadata": {},
     "output_type": "execute_result"
    }
   ],
   "source": [
    "data_null.groupby(['browser_language']).count()"
   ]
  },
  {
   "cell_type": "code",
   "execution_count": 112,
   "metadata": {},
   "outputs": [
    {
     "data": {
      "text/html": [
       "<div>\n",
       "<style scoped>\n",
       "    .dataframe tbody tr th:only-of-type {\n",
       "        vertical-align: middle;\n",
       "    }\n",
       "\n",
       "    .dataframe tbody tr th {\n",
       "        vertical-align: top;\n",
       "    }\n",
       "\n",
       "    .dataframe thead th {\n",
       "        text-align: right;\n",
       "    }\n",
       "</style>\n",
       "<table border=\"1\" class=\"dataframe\">\n",
       "  <thead>\n",
       "    <tr style=\"text-align: right;\">\n",
       "      <th></th>\n",
       "      <th>user_id</th>\n",
       "      <th>conversion</th>\n",
       "      <th>test</th>\n",
       "      <th>age</th>\n",
       "    </tr>\n",
       "    <tr>\n",
       "      <th>browser_language</th>\n",
       "      <th></th>\n",
       "      <th></th>\n",
       "      <th></th>\n",
       "      <th></th>\n",
       "    </tr>\n",
       "  </thead>\n",
       "  <tbody>\n",
       "    <tr>\n",
       "      <th>EN</th>\n",
       "      <td>28138104</td>\n",
       "      <td>2</td>\n",
       "      <td>28</td>\n",
       "      <td>0.0</td>\n",
       "    </tr>\n",
       "    <tr>\n",
       "      <th>ES</th>\n",
       "      <td>191011699</td>\n",
       "      <td>26</td>\n",
       "      <td>176</td>\n",
       "      <td>0.0</td>\n",
       "    </tr>\n",
       "    <tr>\n",
       "      <th>Other</th>\n",
       "      <td>4520230</td>\n",
       "      <td>3</td>\n",
       "      <td>5</td>\n",
       "      <td>0.0</td>\n",
       "    </tr>\n",
       "  </tbody>\n",
       "</table>\n",
       "</div>"
      ],
      "text/plain": [
       "                    user_id  conversion  test  age\n",
       "browser_language                                  \n",
       "EN                 28138104           2    28  0.0\n",
       "ES                191011699          26   176  0.0\n",
       "Other               4520230           3     5  0.0"
      ]
     },
     "execution_count": 112,
     "metadata": {},
     "output_type": "execute_result"
    }
   ],
   "source": [
    "data_null.groupby(['browser_language']).sum()"
   ]
  },
  {
   "cell_type": "code",
   "execution_count": 119,
   "metadata": {},
   "outputs": [
    {
     "name": "stdout",
     "output_type": "stream",
     "text": [
      "country\n",
      "Spain          0.079719\n",
      "El Salvador    0.053554\n",
      "Nicaragua      0.052647\n",
      "Costa Rica     0.052256\n",
      "Colombia       0.052089\n",
      "Honduras       0.050906\n",
      "Guatemala      0.050643\n",
      "Venezuela      0.050344\n",
      "Peru           0.049914\n",
      "Mexico         0.049495\n",
      "Bolivia        0.049369\n",
      "Ecuador        0.049154\n",
      "Paraguay       0.048493\n",
      "Chile          0.048107\n",
      "Panama         0.046796\n",
      "Argentina      0.015071\n",
      "Uruguay        0.012048\n",
      "Name: conversion, dtype: float64\n"
     ]
    }
   ],
   "source": [
    "country_conversion = data_2[data_2['test'] == 0].groupby(['country'])['conversion'].mean()\n",
    "  \n",
    "print(country_conversion.sort_values(ascending=False))"
   ]
  },
  {
   "cell_type": "code",
   "execution_count": 120,
   "metadata": {
    "scrolled": true
   },
   "outputs": [
    {
     "name": "stdout",
     "output_type": "stream",
     "text": [
      "country\n",
      "Costa Rica     0.054738\n",
      "Nicaragua      0.054177\n",
      "Chile          0.051295\n",
      "Mexico         0.051186\n",
      "Peru           0.050604\n",
      "Colombia       0.050571\n",
      "Panama         0.049370\n",
      "Paraguay       0.049229\n",
      "Ecuador        0.048988\n",
      "Venezuela      0.048978\n",
      "Guatemala      0.048647\n",
      "El Salvador    0.047947\n",
      "Bolivia        0.047901\n",
      "Honduras       0.047540\n",
      "Argentina      0.013725\n",
      "Uruguay        0.012907\n",
      "Name: conversion, dtype: float64\n"
     ]
    }
   ],
   "source": [
    "country_conversion_test = data_2[data_2['test'] == 1].groupby(['country'])['conversion'].mean()\n",
    "  \n",
    "print(country_conversion_test.sort_values(ascending=False))"
   ]
  },
  {
   "cell_type": "code",
   "execution_count": 121,
   "metadata": {},
   "outputs": [],
   "source": [
    "?data_2.query"
   ]
  },
  {
   "cell_type": "code",
   "execution_count": 122,
   "metadata": {},
   "outputs": [],
   "source": [
    "from scipy import stats"
   ]
  },
  {
   "cell_type": "code",
   "execution_count": 153,
   "metadata": {},
   "outputs": [],
   "source": [
    "data_test = data_2[data_2['country']!='Spain']"
   ]
  },
  {
   "cell_type": "code",
   "execution_count": 154,
   "metadata": {},
   "outputs": [
    {
     "data": {
      "text/plain": [
       "array(['Mexico', 'Venezuela', 'Bolivia', 'Colombia', 'Uruguay',\n",
       "       'El Salvador', 'Nicaragua', 'Peru', 'Costa Rica', 'Chile',\n",
       "       'Argentina', 'Ecuador', 'Guatemala', 'Honduras', 'Paraguay',\n",
       "       'Panama'], dtype=object)"
      ]
     },
     "execution_count": 154,
     "metadata": {},
     "output_type": "execute_result"
    }
   ],
   "source": [
    "data_test.country.unique()"
   ]
  },
  {
   "cell_type": "code",
   "execution_count": 126,
   "metadata": {},
   "outputs": [],
   "source": [
    "?stats.ttest_ind"
   ]
  },
  {
   "cell_type": "code",
   "execution_count": 140,
   "metadata": {},
   "outputs": [],
   "source": [
    "test = stats.ttest_ind(data_test[data_test['test'] == 1]['conversion'], \n",
    "                       data_test[data_test['test'] == 0]['conversion'], \n",
    "                       equal_var=True)"
   ]
  },
  {
   "cell_type": "code",
   "execution_count": 141,
   "metadata": {},
   "outputs": [
    {
     "data": {
      "text/plain": [
       "-7.422512095954769"
      ]
     },
     "execution_count": 141,
     "metadata": {},
     "output_type": "execute_result"
    }
   ],
   "source": [
    "test.statistic"
   ]
  },
  {
   "cell_type": "code",
   "execution_count": 142,
   "metadata": {},
   "outputs": [
    {
     "data": {
      "text/plain": [
       "1.15144687852198e-13"
      ]
     },
     "execution_count": 142,
     "metadata": {},
     "output_type": "execute_result"
    }
   ],
   "source": [
    "test.pvalue"
   ]
  },
  {
   "cell_type": "code",
   "execution_count": 135,
   "metadata": {},
   "outputs": [
    {
     "data": {
      "text/plain": [
       "test\n",
       "0    0.048330\n",
       "1    0.043425\n",
       "Name: conversion, dtype: float64"
      ]
     },
     "execution_count": 135,
     "metadata": {},
     "output_type": "execute_result"
    }
   ],
   "source": [
    "data_test.groupby('test')['conversion'].mean()"
   ]
  },
  {
   "cell_type": "code",
   "execution_count": 139,
   "metadata": {},
   "outputs": [],
   "source": [
    "?stats.ttest_ind"
   ]
  },
  {
   "cell_type": "code",
   "execution_count": 145,
   "metadata": {},
   "outputs": [],
   "source": [
    "\n",
    "sample = data_test.groupby('country')['test'].sum()/data_test.groupby('country')['test'].count()"
   ]
  },
  {
   "cell_type": "code",
   "execution_count": 147,
   "metadata": {},
   "outputs": [
    {
     "data": {
      "text/plain": [
       "country\n",
       "Uruguay        0.899613\n",
       "Argentina      0.799799\n",
       "Paraguay       0.503199\n",
       "Panama         0.502404\n",
       "Bolivia        0.501079\n",
       "Chile          0.500785\n",
       "Mexico         0.500257\n",
       "Costa Rica     0.498964\n",
       "Peru           0.498931\n",
       "Colombia       0.498927\n",
       "El Salvador    0.497492\n",
       "Venezuela      0.496194\n",
       "Guatemala      0.496066\n",
       "Ecuador        0.494432\n",
       "Nicaragua      0.491447\n",
       "Honduras       0.491013\n",
       "Name: test, dtype: float64"
      ]
     },
     "execution_count": 147,
     "metadata": {},
     "output_type": "execute_result"
    }
   ],
   "source": [
    "sample.sort_values(ascending=False)"
   ]
  },
  {
   "cell_type": "code",
   "execution_count": 155,
   "metadata": {},
   "outputs": [],
   "source": [
    "data_test_2 = data_test[data_test['country']!='Uruguay']"
   ]
  },
  {
   "cell_type": "code",
   "execution_count": 158,
   "metadata": {},
   "outputs": [],
   "source": [
    "data_test_2 = data_test_2[data_test_2['country'] != 'Argentina']"
   ]
  },
  {
   "cell_type": "code",
   "execution_count": 159,
   "metadata": {},
   "outputs": [
    {
     "data": {
      "text/plain": [
       "array(['Mexico', 'Venezuela', 'Bolivia', 'Colombia', 'El Salvador',\n",
       "       'Nicaragua', 'Peru', 'Costa Rica', 'Chile', 'Ecuador', 'Guatemala',\n",
       "       'Honduras', 'Paraguay', 'Panama'], dtype=object)"
      ]
     },
     "execution_count": 159,
     "metadata": {},
     "output_type": "execute_result"
    }
   ],
   "source": [
    "data_test_2.country.unique()"
   ]
  },
  {
   "cell_type": "code",
   "execution_count": 160,
   "metadata": {},
   "outputs": [
    {
     "data": {
      "text/plain": [
       "test\n",
       "0    0.050148\n",
       "1    0.050413\n",
       "Name: conversion, dtype: float64"
      ]
     },
     "execution_count": 160,
     "metadata": {},
     "output_type": "execute_result"
    }
   ],
   "source": [
    "data_test_2.groupby('test')['conversion'].mean()"
   ]
  },
  {
   "cell_type": "code",
   "execution_count": 168,
   "metadata": {},
   "outputs": [],
   "source": [
    "date_series = data_test_2.groupby('date')['conversion'].agg(lambda x: x[data_test_2[\"test\"]==1].mean()/x[data_test_2[\"test\"]==0].mean())\n",
    "                                               "
   ]
  },
  {
   "cell_type": "code",
   "execution_count": 171,
   "metadata": {},
   "outputs": [
    {
     "data": {
      "text/plain": [
       "date\n",
       "2015-11-30    0.970198\n",
       "2015-12-01    0.989706\n",
       "2015-12-02    1.019380\n",
       "2015-12-03    0.988790\n",
       "2015-12-04    1.037108\n",
       "Name: conversion, dtype: float64"
      ]
     },
     "execution_count": 171,
     "metadata": {},
     "output_type": "execute_result"
    }
   ],
   "source": [
    "date_series"
   ]
  },
  {
   "cell_type": "code",
   "execution_count": 170,
   "metadata": {},
   "outputs": [
    {
     "data": {
      "text/plain": [
       "<matplotlib.axes._subplots.AxesSubplot at 0x136eb0510>"
      ]
     },
     "execution_count": 170,
     "metadata": {},
     "output_type": "execute_result"
    },
    {
     "data": {
      "image/png": "[encoded data removed]",
      "text/plain": [
       "<Figure size 432x288 with 1 Axes>"
      ]
     },
     "metadata": {
      "needs_background": "light"
     },
     "output_type": "display_data"
    }
   ],
   "source": [
    "date_series.plot()"
   ]
  },
  {
   "cell_type": "code",
   "execution_count": 195,
   "metadata": {},
   "outputs": [],
   "source": [
    "import graphviz\n",
    "from sklearn.tree import DecisionTreeClassifier\n",
    "from sklearn.tree import export_graphviz\n",
    "from graphviz import Source"
   ]
  },
  {
   "cell_type": "code",
   "execution_count": 182,
   "metadata": {},
   "outputs": [],
   "source": [
    "?graphviz"
   ]
  },
  {
   "cell_type": "code",
   "execution_count": 217,
   "metadata": {},
   "outputs": [
    {
     "name": "stderr",
     "output_type": "stream",
     "text": [
      "/usr/local/lib/python3.7/site-packages/ipykernel_launcher.py:1: SettingWithCopyWarning: \n",
      "A value is trying to be set on a copy of a slice from a DataFrame.\n",
      "Try using .loc[row_indexer,col_indexer] = value instead\n",
      "\n",
      "See the caveats in the documentation: https://pandas.pydata.org/pandas-docs/stable/user_guide/indexing.html#returning-a-view-versus-a-copy\n",
      "  \"\"\"Entry point for launching an IPython kernel.\n"
     ]
    }
   ],
   "source": [
    "data_test['date'] = data_test['date'].apply(str)"
   ]
  },
  {
   "cell_type": "code",
   "execution_count": 218,
   "metadata": {},
   "outputs": [],
   "source": [
    "data_dummy = pd.get_dummies(data_test)"
   ]
  },
  {
   "cell_type": "code",
   "execution_count": 219,
   "metadata": {},
   "outputs": [],
   "source": [
    "train_cols = data_dummy.drop(['test', 'conversion'], axis=1)"
   ]
  },
  {
   "cell_type": "code",
   "execution_count": 220,
   "metadata": {},
   "outputs": [
    {
     "data": {
      "text/plain": [
       "DecisionTreeClassifier(ccp_alpha=0.0, class_weight='balanced', criterion='gini',\n",
       "                       max_depth=2, max_features=None, max_leaf_nodes=None,\n",
       "                       min_impurity_decrease=0.001, min_impurity_split=None,\n",
       "                       min_samples_leaf=1, min_samples_split=2,\n",
       "                       min_weight_fraction_leaf=0.0, presort='deprecated',\n",
       "                       random_state=None, splitter='best')"
      ]
     },
     "execution_count": 220,
     "metadata": {},
     "output_type": "execute_result"
    }
   ],
   "source": [
    "clf=DecisionTreeClassifier(\n",
    "    #change weights. Our data set is now perfectly balanced. It makes easier to understand the tree output\n",
    "    class_weight=\"balanced\",\n",
    "    #only split if if it's worthwhile. The default value of 0 means always split no matter what if you can increase overall performance, which creates tons of noisy and irrelevant splits\n",
    "    min_impurity_decrease = 0.001, max_depth = 2\n",
    "    )\n",
    "clf.fit(train_cols,data_dummy['test'])"
   ]
  },
  {
   "cell_type": "code",
   "execution_count": 214,
   "metadata": {},
   "outputs": [],
   "source": [
    "# export_graphviz(tree, out_file=\"tree_test.dot\", feature_names=train_cols.columns, proportion=True, rotate=True)\n",
    "# with open(\"tree_test.dot\") as f:\n",
    "#     dot_graph = f.read()\n",
    "# s = Source.from_file(\"tree_test.dot\")\n",
    "# s.view()"
   ]
  },
  {
   "cell_type": "code",
   "execution_count": 229,
   "metadata": {},
   "outputs": [
    {
     "data": {
      "text/plain": [
       "[Text(200.88000000000002, 181.2, 'country_Argentina <= 0.5\\ngini = 0.5\\nsamples = 100.0%\\nvalue = [0.5, 0.5]\\nclass = 1'),\n",
       " Text(133.92000000000002, 108.72, 'country_Uruguay <= 0.5\\ngini = 0.498\\nsamples = 88.3%\\nvalue = [0.535, 0.465]\\nclass = 0'),\n",
       " Text(66.96000000000001, 36.23999999999998, 'gini = 0.497\\nsamples = 87.3%\\nvalue = [0.539, 0.461]\\nclass = 0'),\n",
       " Text(200.88000000000002, 36.23999999999998, 'gini = 0.204\\nsamples = 1.0%\\nvalue = [0.115, 0.885]\\nclass = 1'),\n",
       " Text(267.84000000000003, 108.72, 'gini = 0.35\\nsamples = 11.7%\\nvalue = [0.226, 0.774]\\nclass = 1')]"
      ]
     },
     "execution_count": 229,
     "metadata": {},
     "output_type": "execute_result"
    },
    {
     "data": {
      "image/png": "[encoded data removed]",
      "text/plain": [
       "<Figure size 432x288 with 1 Axes>"
      ]
     },
     "metadata": {
      "needs_background": "light"
     },
     "output_type": "display_data"
    }
   ],
   "source": [
    "tree.plot_tree(clf, feature_names = train_cols.columns, class_names = ['0','1'], proportion=True, rotate=True, \n",
    "               rounded = True, impurity = True, label = 'all', filled = True)"
   ]
  },
  {
   "cell_type": "code",
   "execution_count": 228,
   "metadata": {},
   "outputs": [],
   "source": [
    "?tree.plot_tree"
   ]
  },
  {
   "cell_type": "code",
   "execution_count": null,
   "metadata": {},
   "outputs": [],
   "source": []
  }
 ],
 "metadata": {
  "kernelspec": {
   "display_name": "Python 3",
   "language": "python",
   "name": "python3"
  },
  "language_info": {
   "codemirror_mode": {
    "name": "ipython",
    "version": 3
   },
   "file_extension": ".py",
   "mimetype": "text/x-python",
   "name": "python",
   "nbconvert_exporter": "python",
   "pygments_lexer": "ipython3",
   "version": "3.7.7"
  }
 },
 "nbformat": 4,
 "nbformat_minor": 4
}
