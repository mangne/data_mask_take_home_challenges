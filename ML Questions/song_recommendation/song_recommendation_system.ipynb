{
 "cells": [
  {
   "cell_type": "code",
   "execution_count": 1,
   "metadata": {},
   "outputs": [],
   "source": [
    "import pandas as pd\n",
    "import numpy as np\n",
    "import matplotlib.pyplot as plt\n",
    "import seaborn as sns\n",
    "%matplotlib inline"
   ]
  },
  {
   "cell_type": "code",
   "execution_count": 4,
   "metadata": {},
   "outputs": [
    {
     "name": "stdout",
     "output_type": "stream",
     "text": [
      "<class 'pandas.core.frame.DataFrame'>\n",
      "RangeIndex: 4000 entries, 0 to 3999\n",
      "Data columns (total 6 columns):\n",
      " #   Column             Non-Null Count  Dtype \n",
      "---  ------             --------------  ----- \n",
      " 0   id                 4000 non-null   object\n",
      " 1   user_id            4000 non-null   int64 \n",
      " 2   user_state         4000 non-null   object\n",
      " 3   user_sign_up_date  4000 non-null   object\n",
      " 4   song_played        4000 non-null   object\n",
      " 5   time_played        4000 non-null   object\n",
      "dtypes: int64(1), object(5)\n",
      "memory usage: 187.6+ KB\n"
     ]
    }
   ],
   "source": [
    "song_data = pd.read_json('song.json')\n",
    "song_data.info()"
   ]
  },
  {
   "cell_type": "code",
   "execution_count": 6,
   "metadata": {},
   "outputs": [
    {
     "data": {
      "text/html": [
       "<div>\n",
       "<style scoped>\n",
       "    .dataframe tbody tr th:only-of-type {\n",
       "        vertical-align: middle;\n",
       "    }\n",
       "\n",
       "    .dataframe tbody tr th {\n",
       "        vertical-align: top;\n",
       "    }\n",
       "\n",
       "    .dataframe thead th {\n",
       "        text-align: right;\n",
       "    }\n",
       "</style>\n",
       "<table border=\"1\" class=\"dataframe\">\n",
       "  <thead>\n",
       "    <tr style=\"text-align: right;\">\n",
       "      <th></th>\n",
       "      <th>id</th>\n",
       "      <th>user_id</th>\n",
       "      <th>user_state</th>\n",
       "      <th>user_sign_up_date</th>\n",
       "      <th>song_played</th>\n",
       "      <th>time_played</th>\n",
       "    </tr>\n",
       "  </thead>\n",
       "  <tbody>\n",
       "    <tr>\n",
       "      <th>0</th>\n",
       "      <td>GOQMMKSQQH</td>\n",
       "      <td>122</td>\n",
       "      <td>Louisiana</td>\n",
       "      <td>2015-05-16</td>\n",
       "      <td>Hey Jude</td>\n",
       "      <td>2015-06-11 21:51:35</td>\n",
       "    </tr>\n",
       "    <tr>\n",
       "      <th>1</th>\n",
       "      <td>HWKKBQKNWI</td>\n",
       "      <td>3</td>\n",
       "      <td>Ohio</td>\n",
       "      <td>2015-05-01</td>\n",
       "      <td>We Can Work It Out</td>\n",
       "      <td>2015-06-06 16:49:19</td>\n",
       "    </tr>\n",
       "    <tr>\n",
       "      <th>2</th>\n",
       "      <td>DKQSXVNJDH</td>\n",
       "      <td>35</td>\n",
       "      <td>New Jersey</td>\n",
       "      <td>2015-05-04</td>\n",
       "      <td>Back In the U.S.S.R.</td>\n",
       "      <td>2015-06-14 02:11:29</td>\n",
       "    </tr>\n",
       "    <tr>\n",
       "      <th>3</th>\n",
       "      <td>HLHRIDQTUW</td>\n",
       "      <td>126</td>\n",
       "      <td>Illinois</td>\n",
       "      <td>2015-05-16</td>\n",
       "      <td>P.s. I Love You</td>\n",
       "      <td>2015-06-08 12:26:10</td>\n",
       "    </tr>\n",
       "  </tbody>\n",
       "</table>\n",
       "</div>"
      ],
      "text/plain": [
       "           id  user_id  user_state user_sign_up_date           song_played  \\\n",
       "0  GOQMMKSQQH      122   Louisiana        2015-05-16              Hey Jude   \n",
       "1  HWKKBQKNWI        3        Ohio        2015-05-01    We Can Work It Out   \n",
       "2  DKQSXVNJDH       35  New Jersey        2015-05-04  Back In the U.S.S.R.   \n",
       "3  HLHRIDQTUW      126    Illinois        2015-05-16       P.s. I Love You   \n",
       "\n",
       "           time_played  \n",
       "0  2015-06-11 21:51:35  \n",
       "1  2015-06-06 16:49:19  \n",
       "2  2015-06-14 02:11:29  \n",
       "3  2015-06-08 12:26:10  "
      ]
     },
     "execution_count": 6,
     "metadata": {},
     "output_type": "execute_result"
    }
   ],
   "source": [
    "song_data.head(n=4)"
   ]
  },
  {
   "cell_type": "code",
   "execution_count": 7,
   "metadata": {},
   "outputs": [],
   "source": [
    "song_data['user_sign_up_date'] = pd.to_datetime(song_data['user_sign_up_date'])\n",
    "song_data.time_played = pd.to_datetime(song_data.time_played)"
   ]
  },
  {
   "cell_type": "code",
   "execution_count": 9,
   "metadata": {},
   "outputs": [
    {
     "data": {
      "text/html": [
       "<div>\n",
       "<style scoped>\n",
       "    .dataframe tbody tr th:only-of-type {\n",
       "        vertical-align: middle;\n",
       "    }\n",
       "\n",
       "    .dataframe tbody tr th {\n",
       "        vertical-align: top;\n",
       "    }\n",
       "\n",
       "    .dataframe thead th {\n",
       "        text-align: right;\n",
       "    }\n",
       "</style>\n",
       "<table border=\"1\" class=\"dataframe\">\n",
       "  <thead>\n",
       "    <tr style=\"text-align: right;\">\n",
       "      <th></th>\n",
       "      <th>id</th>\n",
       "      <th>user_id</th>\n",
       "      <th>user_state</th>\n",
       "      <th>user_sign_up_date</th>\n",
       "      <th>song_played</th>\n",
       "      <th>time_played</th>\n",
       "    </tr>\n",
       "  </thead>\n",
       "  <tbody>\n",
       "    <tr>\n",
       "      <th>count</th>\n",
       "      <td>4000</td>\n",
       "      <td>4000.000000</td>\n",
       "      <td>4000</td>\n",
       "      <td>4000</td>\n",
       "      <td>4000</td>\n",
       "      <td>4000</td>\n",
       "    </tr>\n",
       "    <tr>\n",
       "      <th>unique</th>\n",
       "      <td>4000</td>\n",
       "      <td>NaN</td>\n",
       "      <td>41</td>\n",
       "      <td>NaN</td>\n",
       "      <td>97</td>\n",
       "      <td>NaN</td>\n",
       "    </tr>\n",
       "    <tr>\n",
       "      <th>top</th>\n",
       "      <td>MEXSUYUFRT</td>\n",
       "      <td>NaN</td>\n",
       "      <td>New York</td>\n",
       "      <td>NaN</td>\n",
       "      <td>Come Together</td>\n",
       "      <td>NaN</td>\n",
       "    </tr>\n",
       "    <tr>\n",
       "      <th>freq</th>\n",
       "      <td>1</td>\n",
       "      <td>NaN</td>\n",
       "      <td>469</td>\n",
       "      <td>NaN</td>\n",
       "      <td>408</td>\n",
       "      <td>NaN</td>\n",
       "    </tr>\n",
       "    <tr>\n",
       "      <th>mean</th>\n",
       "      <td>NaN</td>\n",
       "      <td>101.574000</td>\n",
       "      <td>NaN</td>\n",
       "      <td>2015-05-11 17:06:00</td>\n",
       "      <td>NaN</td>\n",
       "      <td>2015-06-15 00:48:44.929500160</td>\n",
       "    </tr>\n",
       "    <tr>\n",
       "      <th>min</th>\n",
       "      <td>NaN</td>\n",
       "      <td>1.000000</td>\n",
       "      <td>NaN</td>\n",
       "      <td>2015-05-01 00:00:00</td>\n",
       "      <td>NaN</td>\n",
       "      <td>2015-06-01 05:02:54</td>\n",
       "    </tr>\n",
       "    <tr>\n",
       "      <th>25%</th>\n",
       "      <td>NaN</td>\n",
       "      <td>48.000000</td>\n",
       "      <td>NaN</td>\n",
       "      <td>2015-05-06 00:00:00</td>\n",
       "      <td>NaN</td>\n",
       "      <td>2015-06-07 20:02:02</td>\n",
       "    </tr>\n",
       "    <tr>\n",
       "      <th>50%</th>\n",
       "      <td>NaN</td>\n",
       "      <td>102.000000</td>\n",
       "      <td>NaN</td>\n",
       "      <td>2015-05-12 00:00:00</td>\n",
       "      <td>NaN</td>\n",
       "      <td>2015-06-14 20:04:12.500000</td>\n",
       "    </tr>\n",
       "    <tr>\n",
       "      <th>75%</th>\n",
       "      <td>NaN</td>\n",
       "      <td>155.000000</td>\n",
       "      <td>NaN</td>\n",
       "      <td>2015-05-19 00:00:00</td>\n",
       "      <td>NaN</td>\n",
       "      <td>2015-06-21 21:36:30.249999872</td>\n",
       "    </tr>\n",
       "    <tr>\n",
       "      <th>max</th>\n",
       "      <td>NaN</td>\n",
       "      <td>200.000000</td>\n",
       "      <td>NaN</td>\n",
       "      <td>2015-05-20 00:00:00</td>\n",
       "      <td>NaN</td>\n",
       "      <td>2015-06-28 23:46:06</td>\n",
       "    </tr>\n",
       "    <tr>\n",
       "      <th>std</th>\n",
       "      <td>NaN</td>\n",
       "      <td>58.766835</td>\n",
       "      <td>NaN</td>\n",
       "      <td>NaN</td>\n",
       "      <td>NaN</td>\n",
       "      <td>NaN</td>\n",
       "    </tr>\n",
       "  </tbody>\n",
       "</table>\n",
       "</div>"
      ],
      "text/plain": [
       "                id      user_id user_state    user_sign_up_date  \\\n",
       "count         4000  4000.000000       4000                 4000   \n",
       "unique        4000          NaN         41                  NaN   \n",
       "top     MEXSUYUFRT          NaN   New York                  NaN   \n",
       "freq             1          NaN        469                  NaN   \n",
       "mean           NaN   101.574000        NaN  2015-05-11 17:06:00   \n",
       "min            NaN     1.000000        NaN  2015-05-01 00:00:00   \n",
       "25%            NaN    48.000000        NaN  2015-05-06 00:00:00   \n",
       "50%            NaN   102.000000        NaN  2015-05-12 00:00:00   \n",
       "75%            NaN   155.000000        NaN  2015-05-19 00:00:00   \n",
       "max            NaN   200.000000        NaN  2015-05-20 00:00:00   \n",
       "std            NaN    58.766835        NaN                  NaN   \n",
       "\n",
       "          song_played                    time_played  \n",
       "count            4000                           4000  \n",
       "unique             97                            NaN  \n",
       "top     Come Together                            NaN  \n",
       "freq              408                            NaN  \n",
       "mean              NaN  2015-06-15 00:48:44.929500160  \n",
       "min               NaN            2015-06-01 05:02:54  \n",
       "25%               NaN            2015-06-07 20:02:02  \n",
       "50%               NaN     2015-06-14 20:04:12.500000  \n",
       "75%               NaN  2015-06-21 21:36:30.249999872  \n",
       "max               NaN            2015-06-28 23:46:06  \n",
       "std               NaN                            NaN  "
      ]
     },
     "execution_count": 9,
     "metadata": {},
     "output_type": "execute_result"
    }
   ],
   "source": [
    "song_data.describe(include = 'all', datetime_is_numeric=True)"
   ]
  },
  {
   "cell_type": "markdown",
   "metadata": {},
   "source": [
    "The company CEO asked you for very specific questions:\n",
    "\n",
    "- What are the top 3 and the bottom 3 states in terms number of users?\n",
    "\n",
    "\n",
    "- What are the top 3 and the bottom 3 states in terms of user engagement? You can choose how to mathematically define user engagement. What the CEO cares about here is in which states users are using the product a lot/very little.\n",
    "\n",
    "\n",
    "- The CEO wants to send a gift to the first user who signed-up for each state. That is, the first user who signed-up from California, from Oregon, etc. Can you give him a list of those users?\n",
    "\n",
    "\n",
    "- Build a function that takes as an input any of the songs in the data and returns the most likely song to be listened next.\n",
    "That is, if, for instance, a user is currently listening to “Eight Days A Week“, which song has the highest probability of being played right after it by the same user? This is going to be V1 of a song recommendation model.\n",
    "\n",
    "\n",
    "- How would you set up a test to check whether your model works well?\n",
    "\n"
   ]
  },
  {
   "cell_type": "markdown",
   "metadata": {},
   "source": [
    "### What are the top 3 and the bottom 3 states in terms number of users?"
   ]
  },
  {
   "cell_type": "code",
   "execution_count": null,
   "metadata": {},
   "outputs": [],
   "source": []
  },
  {
   "cell_type": "code",
   "execution_count": 47,
   "metadata": {
    "scrolled": true
   },
   "outputs": [],
   "source": [
    "g = song_data.groupby('user_state').user_id.agg(lambda x: len(np.unique(x)))\n",
    "g = g.sort_values(ascending = False)"
   ]
  },
  {
   "cell_type": "code",
   "execution_count": 53,
   "metadata": {},
   "outputs": [
    {
     "data": {
      "text/plain": [
       "user_state\n",
       "New York        23\n",
       "California      21\n",
       "Texas           15\n",
       "Pennsylvania     9\n",
       "Ohio             9\n",
       "Name: user_id, dtype: int64"
      ]
     },
     "execution_count": 53,
     "metadata": {},
     "output_type": "execute_result"
    }
   ],
   "source": [
    "#top states in terms of user sign up\n",
    "g[:5]"
   ]
  },
  {
   "cell_type": "code",
   "execution_count": 28,
   "metadata": {},
   "outputs": [
    {
     "data": {
      "text/plain": [
       "0         Kansas\n",
       "1    Connecticut\n",
       "2     New Mexico\n",
       "Name: user_state, dtype: object"
      ]
     },
     "execution_count": 28,
     "metadata": {},
     "output_type": "execute_result"
    }
   ],
   "source": [
    "g.iloc[:3, :]['user_state']"
   ]
  },
  {
   "cell_type": "code",
   "execution_count": 34,
   "metadata": {},
   "outputs": [
    {
     "data": {
      "text/html": [
       "<div>\n",
       "<style scoped>\n",
       "    .dataframe tbody tr th:only-of-type {\n",
       "        vertical-align: middle;\n",
       "    }\n",
       "\n",
       "    .dataframe tbody tr th {\n",
       "        vertical-align: top;\n",
       "    }\n",
       "\n",
       "    .dataframe thead th {\n",
       "        text-align: right;\n",
       "    }\n",
       "</style>\n",
       "<table border=\"1\" class=\"dataframe\">\n",
       "  <thead>\n",
       "    <tr style=\"text-align: right;\">\n",
       "      <th></th>\n",
       "      <th>user_state</th>\n",
       "      <th>0</th>\n",
       "    </tr>\n",
       "  </thead>\n",
       "  <tbody>\n",
       "    <tr>\n",
       "      <th>37</th>\n",
       "      <td>Virginia</td>\n",
       "      <td>17</td>\n",
       "    </tr>\n",
       "    <tr>\n",
       "      <th>38</th>\n",
       "      <td>New Mexico</td>\n",
       "      <td>17</td>\n",
       "    </tr>\n",
       "    <tr>\n",
       "      <th>39</th>\n",
       "      <td>Connecticut</td>\n",
       "      <td>16</td>\n",
       "    </tr>\n",
       "    <tr>\n",
       "      <th>40</th>\n",
       "      <td>Kansas</td>\n",
       "      <td>8</td>\n",
       "    </tr>\n",
       "  </tbody>\n",
       "</table>\n",
       "</div>"
      ],
      "text/plain": [
       "     user_state   0\n",
       "37     Virginia  17\n",
       "38   New Mexico  17\n",
       "39  Connecticut  16\n",
       "40       Kansas   8"
      ]
     },
     "execution_count": 34,
     "metadata": {},
     "output_type": "execute_result"
    }
   ],
   "source": [
    "g.iloc[-4:, :]"
   ]
  },
  {
   "cell_type": "code",
   "execution_count": 52,
   "metadata": {},
   "outputs": [
    {
     "data": {
      "text/plain": [
       "user_state\n",
       "Alaska          2\n",
       "North Dakota    1\n",
       "Kansas          1\n",
       "Iowa            1\n",
       "Rhode Island    1\n",
       "Nebraska        1\n",
       "Idaho           1\n",
       "Connecticut     1\n",
       "New Mexico      1\n",
       "Arizona         1\n",
       "Name: user_id, dtype: int64"
      ]
     },
     "execution_count": 52,
     "metadata": {},
     "output_type": "execute_result"
    }
   ],
   "source": [
    "#bottom states in terms of user sign up\n",
    "g[-10:]"
   ]
  },
  {
   "cell_type": "markdown",
   "metadata": {},
   "source": [
    "### What are the top 3 and the bottom 3 states in terms of user engagement? You can choose how to mathematically define user engagement. What the CEO cares about here is in which states users are using the product a lot/very little.\n",
    "\n",
    "\n",
    "User engagement can be defined as no of time a song is played by the user or in terms of time played"
   ]
  },
  {
   "cell_type": "code",
   "execution_count": 76,
   "metadata": {},
   "outputs": [],
   "source": [
    "g = song_data.groupby(['user_state', 'user_id']).time_played.agg(['min', 'max'])\n",
    "g.drop(['level_0', 'index'], axis = 1, inplace = True)\n",
    "g['duration_played'] = g['max']-g['min']"
   ]
  },
  {
   "cell_type": "code",
   "execution_count": 84,
   "metadata": {},
   "outputs": [],
   "source": [
    "f = g.groupby('user_state').duration_played.sum()/g.groupby('user_state').duration_played.count()\n",
    "f = f.reset_index()\n",
    "f = f.sort_values(by='duration_played', ascending = False)"
   ]
  },
  {
   "cell_type": "code",
   "execution_count": 99,
   "metadata": {},
   "outputs": [
    {
     "data": {
      "text/plain": [
       "(      user_state  duration_played\n",
       " 27  North Dakota 27 days 09:12:40\n",
       " 24    New Mexico 27 days 07:53:28\n",
       " 2        Arizona 27 days 06:18:28,\n",
       "        user_state  duration_played\n",
       " 39  West Virginia 17 days 06:48:28\n",
       " 19      Minnesota 13 days 10:20:07\n",
       " 37       Virginia  8 days 23:59:20)"
      ]
     },
     "execution_count": 99,
     "metadata": {},
     "output_type": "execute_result"
    }
   ],
   "source": [
    "f[:3], f[-3:]"
   ]
  },
  {
   "cell_type": "markdown",
   "metadata": {},
   "source": [
    "second definition can be on an average how many songs are played in every state\n",
    "\n",
    "We can extend it to on an average how many songs are played in an hour in each state."
   ]
  },
  {
   "cell_type": "code",
   "execution_count": 112,
   "metadata": {},
   "outputs": [],
   "source": [
    "freq_df = song_data.groupby(['user_state', 'song_played']).time_played.count().reset_index()"
   ]
  },
  {
   "cell_type": "code",
   "execution_count": 127,
   "metadata": {},
   "outputs": [],
   "source": [
    "f = freq_df.groupby('user_state').time_played.sum()/freq_df.groupby('user_state').time_played.count()\n",
    "f = f.reset_index()\n",
    "f = f.sort_values(by = 'time_played', ascending = False)"
   ]
  },
  {
   "cell_type": "code",
   "execution_count": 128,
   "metadata": {},
   "outputs": [
    {
     "data": {
      "text/html": [
       "<div>\n",
       "<style scoped>\n",
       "    .dataframe tbody tr th:only-of-type {\n",
       "        vertical-align: middle;\n",
       "    }\n",
       "\n",
       "    .dataframe tbody tr th {\n",
       "        vertical-align: top;\n",
       "    }\n",
       "\n",
       "    .dataframe thead th {\n",
       "        text-align: right;\n",
       "    }\n",
       "</style>\n",
       "<table border=\"1\" class=\"dataframe\">\n",
       "  <thead>\n",
       "    <tr style=\"text-align: right;\">\n",
       "      <th></th>\n",
       "      <th>user_state</th>\n",
       "      <th>time_played</th>\n",
       "    </tr>\n",
       "  </thead>\n",
       "  <tbody>\n",
       "    <tr>\n",
       "      <th>25</th>\n",
       "      <td>New York</td>\n",
       "      <td>6.424658</td>\n",
       "    </tr>\n",
       "    <tr>\n",
       "      <th>4</th>\n",
       "      <td>California</td>\n",
       "      <td>5.985915</td>\n",
       "    </tr>\n",
       "    <tr>\n",
       "      <th>28</th>\n",
       "      <td>Ohio</td>\n",
       "      <td>3.800000</td>\n",
       "    </tr>\n",
       "    <tr>\n",
       "      <th>7</th>\n",
       "      <td>Florida</td>\n",
       "      <td>3.673469</td>\n",
       "    </tr>\n",
       "    <tr>\n",
       "      <th>35</th>\n",
       "      <td>Texas</td>\n",
       "      <td>3.538462</td>\n",
       "    </tr>\n",
       "  </tbody>\n",
       "</table>\n",
       "</div>"
      ],
      "text/plain": [
       "    user_state  time_played\n",
       "25    New York     6.424658\n",
       "4   California     5.985915\n",
       "28        Ohio     3.800000\n",
       "7      Florida     3.673469\n",
       "35       Texas     3.538462"
      ]
     },
     "execution_count": 128,
     "metadata": {},
     "output_type": "execute_result"
    }
   ],
   "source": [
    "f.head()"
   ]
  },
  {
   "cell_type": "markdown",
   "metadata": {},
   "source": [
    "#### Or, we can define user engagement by how many songs are played on an average in an hour/minute/day"
   ]
  },
  {
   "cell_type": "code",
   "execution_count": 181,
   "metadata": {},
   "outputs": [],
   "source": [
    "#extension\n",
    "freq_df_ext = song_data.groupby(['user_state', 'song_played']).time_played.agg(['min', 'max', 'count']).reset_index()\n",
    "freq_df_ext['duration_day'] = (freq_df_ext['max']-freq_df_ext['min'])\n",
    "freq_df_ext['duration_hr'] = (1/3600)*(freq_df_ext['duration_day']/(np.timedelta64(1, 's')))\n",
    "freq_df_ext['average_duration'] = freq_df_ext['duration_hr']/freq_df_ext['count']"
   ]
  },
  {
   "cell_type": "code",
   "execution_count": 182,
   "metadata": {},
   "outputs": [],
   "source": [
    "av_event_hr = freq_df_ext.groupby('user_state')['count'].sum()/freq_df_ext.groupby('user_state')['duration_hr'].sum()\n",
    "av_event_hr = av_event_hr.reset_index()\n",
    "av_event_hr.rename(columns= {0: 'average_event'}, inplace = True)\n",
    "av_event_hr = av_event_hr.sort_values(by = 'average_event', ascending= False)"
   ]
  },
  {
   "cell_type": "code",
   "execution_count": 183,
   "metadata": {},
   "outputs": [
    {
     "data": {
      "text/plain": [
       "(     user_state  average_event\n",
       " 13       Kansas       0.037549\n",
       " 37     Virginia       0.025662\n",
       " 6   Connecticut       0.024049,\n",
       "     user_state  average_event\n",
       " 38  Washington       0.011611\n",
       " 14    Kentucky       0.011499\n",
       " 30      Oregon       0.011333)"
      ]
     },
     "execution_count": 183,
     "metadata": {},
     "output_type": "execute_result"
    }
   ],
   "source": [
    "av_event_hr.head(n=3), av_event_hr.tail(n=3)"
   ]
  },
  {
   "cell_type": "markdown",
   "metadata": {},
   "source": [
    "### 3. The CEO wants to send a gift to the first user who signed-up for each state. That is, the first user who signed-up from California, from Oregon, etc. Can you give him a list of those users?"
   ]
  },
  {
   "cell_type": "code",
   "execution_count": 186,
   "metadata": {},
   "outputs": [
    {
     "data": {
      "text/html": [
       "<div>\n",
       "<style scoped>\n",
       "    .dataframe tbody tr th:only-of-type {\n",
       "        vertical-align: middle;\n",
       "    }\n",
       "\n",
       "    .dataframe tbody tr th {\n",
       "        vertical-align: top;\n",
       "    }\n",
       "\n",
       "    .dataframe thead th {\n",
       "        text-align: right;\n",
       "    }\n",
       "</style>\n",
       "<table border=\"1\" class=\"dataframe\">\n",
       "  <thead>\n",
       "    <tr style=\"text-align: right;\">\n",
       "      <th></th>\n",
       "      <th>user_state</th>\n",
       "      <th>user_sign_up_date</th>\n",
       "    </tr>\n",
       "  </thead>\n",
       "  <tbody>\n",
       "    <tr>\n",
       "      <th>0</th>\n",
       "      <td>Alabama</td>\n",
       "      <td>2015-05-01</td>\n",
       "    </tr>\n",
       "    <tr>\n",
       "      <th>1</th>\n",
       "      <td>Alaska</td>\n",
       "      <td>2015-05-12</td>\n",
       "    </tr>\n",
       "    <tr>\n",
       "      <th>2</th>\n",
       "      <td>Arizona</td>\n",
       "      <td>2015-05-12</td>\n",
       "    </tr>\n",
       "    <tr>\n",
       "      <th>3</th>\n",
       "      <td>Arkansas</td>\n",
       "      <td>2015-05-08</td>\n",
       "    </tr>\n",
       "    <tr>\n",
       "      <th>4</th>\n",
       "      <td>California</td>\n",
       "      <td>2015-05-04</td>\n",
       "    </tr>\n",
       "  </tbody>\n",
       "</table>\n",
       "</div>"
      ],
      "text/plain": [
       "   user_state user_sign_up_date\n",
       "0     Alabama        2015-05-01\n",
       "1      Alaska        2015-05-12\n",
       "2     Arizona        2015-05-12\n",
       "3    Arkansas        2015-05-08\n",
       "4  California        2015-05-04"
      ]
     },
     "execution_count": 186,
     "metadata": {},
     "output_type": "execute_result"
    }
   ],
   "source": [
    "sign_up = song_data.groupby('user_state').user_sign_up_date.min().reset_index()\n",
    "sign_up.head(n=5)"
   ]
  },
  {
   "cell_type": "code",
   "execution_count": 249,
   "metadata": {},
   "outputs": [
    {
     "data": {
      "text/html": [
       "<div>\n",
       "<style scoped>\n",
       "    .dataframe tbody tr th:only-of-type {\n",
       "        vertical-align: middle;\n",
       "    }\n",
       "\n",
       "    .dataframe tbody tr th {\n",
       "        vertical-align: top;\n",
       "    }\n",
       "\n",
       "    .dataframe thead th {\n",
       "        text-align: right;\n",
       "    }\n",
       "</style>\n",
       "<table border=\"1\" class=\"dataframe\">\n",
       "  <thead>\n",
       "    <tr style=\"text-align: right;\">\n",
       "      <th></th>\n",
       "      <th>user_id</th>\n",
       "      <th>user_state</th>\n",
       "      <th>user_sign_up_date</th>\n",
       "    </tr>\n",
       "    <tr>\n",
       "      <th>user_state</th>\n",
       "      <th></th>\n",
       "      <th></th>\n",
       "      <th></th>\n",
       "    </tr>\n",
       "  </thead>\n",
       "  <tbody>\n",
       "    <tr>\n",
       "      <th>Alabama</th>\n",
       "      <td>5</td>\n",
       "      <td>Alabama</td>\n",
       "      <td>2015-05-01</td>\n",
       "    </tr>\n",
       "    <tr>\n",
       "      <th>Texas</th>\n",
       "      <td>7</td>\n",
       "      <td>Texas</td>\n",
       "      <td>2015-05-01</td>\n",
       "    </tr>\n",
       "    <tr>\n",
       "      <th>Oregon</th>\n",
       "      <td>1</td>\n",
       "      <td>Oregon</td>\n",
       "      <td>2015-05-01</td>\n",
       "    </tr>\n",
       "    <tr>\n",
       "      <th>Ohio</th>\n",
       "      <td>3</td>\n",
       "      <td>Ohio</td>\n",
       "      <td>2015-05-01</td>\n",
       "    </tr>\n",
       "    <tr>\n",
       "      <th>North Carolina</th>\n",
       "      <td>2</td>\n",
       "      <td>North Carolina</td>\n",
       "      <td>2015-05-01</td>\n",
       "    </tr>\n",
       "  </tbody>\n",
       "</table>\n",
       "</div>"
      ],
      "text/plain": [
       "                user_id      user_state user_sign_up_date\n",
       "user_state                                               \n",
       "Alabama               5         Alabama        2015-05-01\n",
       "Texas                 7           Texas        2015-05-01\n",
       "Oregon                1          Oregon        2015-05-01\n",
       "Ohio                  3            Ohio        2015-05-01\n",
       "North Carolina        2  North Carolina        2015-05-01"
      ]
     },
     "execution_count": 249,
     "metadata": {},
     "output_type": "execute_result"
    }
   ],
   "source": [
    "def find_first_signup(df):\n",
    "    idx = df.user_sign_up_date.argmin()\n",
    "    return df.iloc[idx,1:4]\n",
    "\n",
    "first_users = song_data.groupby(\"user_state\").apply(find_first_signup)\n",
    "first_users.sort_values(by=\"user_sign_up_date\").head()"
   ]
  },
  {
   "cell_type": "code",
   "execution_count": null,
   "metadata": {},
   "outputs": [],
   "source": [
    "#alternate solution\n",
    "\n",
    "df = song_data.groupby(['user_state', 'user_id']).user_sign_up_date.min().reset_index\n",
    "df.sort_values(by = ['user_state', 'user_sign_up_date'], ascending=[True, True])\n",
    "\n",
    "ids = []\n",
    "for state in list(df.user_state.unique()):\n",
    "    df_state = df.loc[df.user_state==state]\n",
    "    idx = df_state.user_sign_up_date.argmin()\n",
    "    ids.append(df_state.iloc[idx,:2])"
   ]
  },
  {
   "cell_type": "markdown",
   "metadata": {},
   "source": [
    "### Recommendation System\n",
    "Build a function that takes as an input any of the songs in the data and returns the most likely song to be listened next.\n",
    "That is, if, for instance, a user is currently listening to “Eight Days A Week“, which song has the highest probability of being played right after it by the same user? This is going to be V1 of a song recommendation model."
   ]
  },
  {
   "cell_type": "markdown",
   "metadata": {},
   "source": [
    "one approach can be that; make a group of users who have listened to a particular song, say song A\n",
    "in that group find out what all other songs are popular\n",
    "So, if a user listens to song A, we can recommend the most popular song from that group.\n",
    "\n",
    "This appraoch is called \"Similarity Matrix\" and quite popular in building recommendation systems"
   ]
  },
  {
   "cell_type": "code",
   "execution_count": null,
   "metadata": {},
   "outputs": [],
   "source": [
    "# pivot_table = song_data.pivot(index = 'song_played', column = 'user_id', value = ) "
   ]
  },
  {
   "cell_type": "markdown",
   "metadata": {},
   "source": [
    "First thought comes to make a pivot table (for all songs, played by users) but that will pose a problem because, it may be that a user may have played a specific song multiple times.\n",
    "\n",
    "For that, we will use group by and then make a pivot table"
   ]
  },
  {
   "cell_type": "code",
   "execution_count": 253,
   "metadata": {},
   "outputs": [],
   "source": [
    "df = song_data.groupby(['song_played', 'user_id']).time_played.count().reset_index()\n",
    "df = df.sort_values(by=['song_played','time_played'], ascending = [True, False], ignore_index=True)\n",
    "df = df.pivot_table(index = 'song_played', columns = 'user_id', values = 'time_played', fill_value=0)"
   ]
  },
  {
   "cell_type": "code",
   "execution_count": 269,
   "metadata": {},
   "outputs": [
    {
     "data": {
      "text/html": [
       "<div>\n",
       "<style scoped>\n",
       "    .dataframe tbody tr th:only-of-type {\n",
       "        vertical-align: middle;\n",
       "    }\n",
       "\n",
       "    .dataframe tbody tr th {\n",
       "        vertical-align: top;\n",
       "    }\n",
       "\n",
       "    .dataframe thead th {\n",
       "        text-align: right;\n",
       "    }\n",
       "</style>\n",
       "<table border=\"1\" class=\"dataframe\">\n",
       "  <thead>\n",
       "    <tr style=\"text-align: right;\">\n",
       "      <th>user_id</th>\n",
       "      <th>1</th>\n",
       "      <th>2</th>\n",
       "      <th>3</th>\n",
       "      <th>4</th>\n",
       "      <th>5</th>\n",
       "      <th>6</th>\n",
       "      <th>7</th>\n",
       "      <th>8</th>\n",
       "      <th>9</th>\n",
       "      <th>10</th>\n",
       "      <th>...</th>\n",
       "      <th>191</th>\n",
       "      <th>192</th>\n",
       "      <th>193</th>\n",
       "      <th>194</th>\n",
       "      <th>195</th>\n",
       "      <th>196</th>\n",
       "      <th>197</th>\n",
       "      <th>198</th>\n",
       "      <th>199</th>\n",
       "      <th>200</th>\n",
       "    </tr>\n",
       "    <tr>\n",
       "      <th>song_played</th>\n",
       "      <th></th>\n",
       "      <th></th>\n",
       "      <th></th>\n",
       "      <th></th>\n",
       "      <th></th>\n",
       "      <th></th>\n",
       "      <th></th>\n",
       "      <th></th>\n",
       "      <th></th>\n",
       "      <th></th>\n",
       "      <th></th>\n",
       "      <th></th>\n",
       "      <th></th>\n",
       "      <th></th>\n",
       "      <th></th>\n",
       "      <th></th>\n",
       "      <th></th>\n",
       "      <th></th>\n",
       "      <th></th>\n",
       "      <th></th>\n",
       "      <th></th>\n",
       "    </tr>\n",
       "  </thead>\n",
       "  <tbody>\n",
       "    <tr>\n",
       "      <th>A Day In The Life</th>\n",
       "      <td>0</td>\n",
       "      <td>0</td>\n",
       "      <td>1</td>\n",
       "      <td>3</td>\n",
       "      <td>0</td>\n",
       "      <td>2</td>\n",
       "      <td>0</td>\n",
       "      <td>0</td>\n",
       "      <td>0</td>\n",
       "      <td>0</td>\n",
       "      <td>...</td>\n",
       "      <td>0</td>\n",
       "      <td>0</td>\n",
       "      <td>3</td>\n",
       "      <td>3</td>\n",
       "      <td>0</td>\n",
       "      <td>2</td>\n",
       "      <td>0</td>\n",
       "      <td>0</td>\n",
       "      <td>2</td>\n",
       "      <td>0</td>\n",
       "    </tr>\n",
       "    <tr>\n",
       "      <th>A Hard Day's Night</th>\n",
       "      <td>0</td>\n",
       "      <td>0</td>\n",
       "      <td>0</td>\n",
       "      <td>0</td>\n",
       "      <td>0</td>\n",
       "      <td>1</td>\n",
       "      <td>0</td>\n",
       "      <td>0</td>\n",
       "      <td>1</td>\n",
       "      <td>0</td>\n",
       "      <td>...</td>\n",
       "      <td>0</td>\n",
       "      <td>0</td>\n",
       "      <td>0</td>\n",
       "      <td>0</td>\n",
       "      <td>1</td>\n",
       "      <td>0</td>\n",
       "      <td>0</td>\n",
       "      <td>0</td>\n",
       "      <td>0</td>\n",
       "      <td>0</td>\n",
       "    </tr>\n",
       "    <tr>\n",
       "      <th>A Saturday Club Xmas/Crimble Medley</th>\n",
       "      <td>0</td>\n",
       "      <td>0</td>\n",
       "      <td>0</td>\n",
       "      <td>0</td>\n",
       "      <td>0</td>\n",
       "      <td>0</td>\n",
       "      <td>0</td>\n",
       "      <td>0</td>\n",
       "      <td>0</td>\n",
       "      <td>0</td>\n",
       "      <td>...</td>\n",
       "      <td>0</td>\n",
       "      <td>0</td>\n",
       "      <td>0</td>\n",
       "      <td>0</td>\n",
       "      <td>0</td>\n",
       "      <td>0</td>\n",
       "      <td>0</td>\n",
       "      <td>0</td>\n",
       "      <td>0</td>\n",
       "      <td>0</td>\n",
       "    </tr>\n",
       "    <tr>\n",
       "      <th>ANYTIME AT ALL</th>\n",
       "      <td>0</td>\n",
       "      <td>0</td>\n",
       "      <td>0</td>\n",
       "      <td>0</td>\n",
       "      <td>0</td>\n",
       "      <td>0</td>\n",
       "      <td>0</td>\n",
       "      <td>0</td>\n",
       "      <td>0</td>\n",
       "      <td>0</td>\n",
       "      <td>...</td>\n",
       "      <td>0</td>\n",
       "      <td>0</td>\n",
       "      <td>0</td>\n",
       "      <td>0</td>\n",
       "      <td>0</td>\n",
       "      <td>0</td>\n",
       "      <td>0</td>\n",
       "      <td>0</td>\n",
       "      <td>0</td>\n",
       "      <td>0</td>\n",
       "    </tr>\n",
       "    <tr>\n",
       "      <th>Across The Universe</th>\n",
       "      <td>0</td>\n",
       "      <td>0</td>\n",
       "      <td>0</td>\n",
       "      <td>1</td>\n",
       "      <td>0</td>\n",
       "      <td>0</td>\n",
       "      <td>0</td>\n",
       "      <td>0</td>\n",
       "      <td>0</td>\n",
       "      <td>0</td>\n",
       "      <td>...</td>\n",
       "      <td>0</td>\n",
       "      <td>0</td>\n",
       "      <td>0</td>\n",
       "      <td>0</td>\n",
       "      <td>0</td>\n",
       "      <td>0</td>\n",
       "      <td>0</td>\n",
       "      <td>0</td>\n",
       "      <td>0</td>\n",
       "      <td>0</td>\n",
       "    </tr>\n",
       "  </tbody>\n",
       "</table>\n",
       "<p>5 rows × 196 columns</p>\n",
       "</div>"
      ],
      "text/plain": [
       "user_id                              1    2    3    4    5    6    7    8    \\\n",
       "song_played                                                                   \n",
       "A Day In The Life                      0    0    1    3    0    2    0    0   \n",
       "A Hard Day's Night                     0    0    0    0    0    1    0    0   \n",
       "A Saturday Club Xmas/Crimble Medley    0    0    0    0    0    0    0    0   \n",
       "ANYTIME AT ALL                         0    0    0    0    0    0    0    0   \n",
       "Across The Universe                    0    0    0    1    0    0    0    0   \n",
       "\n",
       "user_id                              9    10   ...  191  192  193  194  195  \\\n",
       "song_played                                    ...                            \n",
       "A Day In The Life                      0    0  ...    0    0    3    3    0   \n",
       "A Hard Day's Night                     1    0  ...    0    0    0    0    1   \n",
       "A Saturday Club Xmas/Crimble Medley    0    0  ...    0    0    0    0    0   \n",
       "ANYTIME AT ALL                         0    0  ...    0    0    0    0    0   \n",
       "Across The Universe                    0    0  ...    0    0    0    0    0   \n",
       "\n",
       "user_id                              196  197  198  199  200  \n",
       "song_played                                                   \n",
       "A Day In The Life                      2    0    0    2    0  \n",
       "A Hard Day's Night                     0    0    0    0    0  \n",
       "A Saturday Club Xmas/Crimble Medley    0    0    0    0    0  \n",
       "ANYTIME AT ALL                         0    0    0    0    0  \n",
       "Across The Universe                    0    0    0    0    0  \n",
       "\n",
       "[5 rows x 196 columns]"
      ]
     },
     "execution_count": 269,
     "metadata": {},
     "output_type": "execute_result"
    }
   ],
   "source": [
    "df.head()"
   ]
  },
  {
   "cell_type": "code",
   "execution_count": 281,
   "metadata": {
    "scrolled": true
   },
   "outputs": [
    {
     "data": {
      "text/plain": [
       "104"
      ]
     },
     "execution_count": 281,
     "metadata": {},
     "output_type": "execute_result"
    }
   ],
   "source": [
    "(df.loc['A Day In The Life', :]!=0).sum()"
   ]
  },
  {
   "cell_type": "markdown",
   "metadata": {},
   "source": [
    "Now, take an example 'A Day In The Life' : 104 users listened to this song, now we need to have a list of all the songs listened by these 104 users in order of popularity (most listened song by this group to least listened song by this group) so that our recommender system can recommend the next song to a user who is listening to 'A Day In The Life'\n",
    "\n",
    "\n",
    "We can do this by first normalising our song and transforming it to song-song table (matrix multiplication will do the transformation) Intuitively if we multiply song-user table to user-song table it will give us the trannsformed values of a song to song similarity based on user scores."
   ]
  },
  {
   "cell_type": "code",
   "execution_count": 319,
   "metadata": {},
   "outputs": [],
   "source": [
    "from sklearn.preprocessing import normalize\n",
    "df_norm = normalize(df, axis = 1)\n",
    "song_sim = pd.DataFrame(df_norm.dot(df_norm.T), index = df.index.values, columns = df.index.values)"
   ]
  },
  {
   "cell_type": "code",
   "execution_count": 320,
   "metadata": {
    "scrolled": true
   },
   "outputs": [
    {
     "data": {
      "text/html": [
       "<div>\n",
       "<style scoped>\n",
       "    .dataframe tbody tr th:only-of-type {\n",
       "        vertical-align: middle;\n",
       "    }\n",
       "\n",
       "    .dataframe tbody tr th {\n",
       "        vertical-align: top;\n",
       "    }\n",
       "\n",
       "    .dataframe thead th {\n",
       "        text-align: right;\n",
       "    }\n",
       "</style>\n",
       "<table border=\"1\" class=\"dataframe\">\n",
       "  <thead>\n",
       "    <tr style=\"text-align: right;\">\n",
       "      <th></th>\n",
       "      <th>A Day In The Life</th>\n",
       "      <th>A Hard Day's Night</th>\n",
       "      <th>A Saturday Club Xmas/Crimble Medley</th>\n",
       "      <th>ANYTIME AT ALL</th>\n",
       "      <th>Across The Universe</th>\n",
       "      <th>All My Loving</th>\n",
       "      <th>All You Need Is Love</th>\n",
       "      <th>And Your Bird Can Sing</th>\n",
       "      <th>BAD BOY</th>\n",
       "      <th>Baby You're A Rich Man</th>\n",
       "      <th>...</th>\n",
       "      <th>We Can Work It Out</th>\n",
       "      <th>When I'm 64</th>\n",
       "      <th>While My Guitar Gently Weeps</th>\n",
       "      <th>Wild Honey Pie</th>\n",
       "      <th>With a Little Help From My Friends</th>\n",
       "      <th>YOUR MOTHER SHOULD KNOW</th>\n",
       "      <th>Yellow Submarine</th>\n",
       "      <th>Yesterday</th>\n",
       "      <th>You Never Give Me Your Money</th>\n",
       "      <th>You're Going To Lose That Girl</th>\n",
       "    </tr>\n",
       "  </thead>\n",
       "  <tbody>\n",
       "    <tr>\n",
       "      <th>A Day In The Life</th>\n",
       "      <td>1.000000</td>\n",
       "      <td>0.246021</td>\n",
       "      <td>0.067651</td>\n",
       "      <td>0.108483</td>\n",
       "      <td>0.192538</td>\n",
       "      <td>0.341760</td>\n",
       "      <td>0.322896</td>\n",
       "      <td>0.138092</td>\n",
       "      <td>0.223237</td>\n",
       "      <td>0.175762</td>\n",
       "      <td>...</td>\n",
       "      <td>0.462712</td>\n",
       "      <td>0.055237</td>\n",
       "      <td>0.509397</td>\n",
       "      <td>0.225503</td>\n",
       "      <td>0.427027</td>\n",
       "      <td>0.033826</td>\n",
       "      <td>0.331593</td>\n",
       "      <td>0.339179</td>\n",
       "      <td>0.079727</td>\n",
       "      <td>0.0</td>\n",
       "    </tr>\n",
       "    <tr>\n",
       "      <th>A Hard Day's Night</th>\n",
       "      <td>0.246021</td>\n",
       "      <td>1.000000</td>\n",
       "      <td>0.000000</td>\n",
       "      <td>0.000000</td>\n",
       "      <td>0.100000</td>\n",
       "      <td>0.136931</td>\n",
       "      <td>0.111803</td>\n",
       "      <td>0.000000</td>\n",
       "      <td>0.000000</td>\n",
       "      <td>0.091287</td>\n",
       "      <td>...</td>\n",
       "      <td>0.259548</td>\n",
       "      <td>0.129099</td>\n",
       "      <td>0.210099</td>\n",
       "      <td>0.000000</td>\n",
       "      <td>0.112987</td>\n",
       "      <td>0.000000</td>\n",
       "      <td>0.050000</td>\n",
       "      <td>0.195468</td>\n",
       "      <td>0.074536</td>\n",
       "      <td>0.0</td>\n",
       "    </tr>\n",
       "    <tr>\n",
       "      <th>A Saturday Club Xmas/Crimble Medley</th>\n",
       "      <td>0.067651</td>\n",
       "      <td>0.000000</td>\n",
       "      <td>1.000000</td>\n",
       "      <td>0.000000</td>\n",
       "      <td>0.000000</td>\n",
       "      <td>0.000000</td>\n",
       "      <td>0.000000</td>\n",
       "      <td>0.000000</td>\n",
       "      <td>0.000000</td>\n",
       "      <td>0.000000</td>\n",
       "      <td>...</td>\n",
       "      <td>0.109435</td>\n",
       "      <td>0.000000</td>\n",
       "      <td>0.000000</td>\n",
       "      <td>0.166667</td>\n",
       "      <td>0.000000</td>\n",
       "      <td>0.000000</td>\n",
       "      <td>0.000000</td>\n",
       "      <td>0.000000</td>\n",
       "      <td>0.000000</td>\n",
       "      <td>0.0</td>\n",
       "    </tr>\n",
       "    <tr>\n",
       "      <th>ANYTIME AT ALL</th>\n",
       "      <td>0.108483</td>\n",
       "      <td>0.000000</td>\n",
       "      <td>0.000000</td>\n",
       "      <td>1.000000</td>\n",
       "      <td>0.000000</td>\n",
       "      <td>0.154303</td>\n",
       "      <td>0.094491</td>\n",
       "      <td>0.109109</td>\n",
       "      <td>0.000000</td>\n",
       "      <td>0.000000</td>\n",
       "      <td>...</td>\n",
       "      <td>0.116991</td>\n",
       "      <td>0.000000</td>\n",
       "      <td>0.138107</td>\n",
       "      <td>0.089087</td>\n",
       "      <td>0.190982</td>\n",
       "      <td>0.000000</td>\n",
       "      <td>0.000000</td>\n",
       "      <td>0.146845</td>\n",
       "      <td>0.000000</td>\n",
       "      <td>0.0</td>\n",
       "    </tr>\n",
       "    <tr>\n",
       "      <th>Across The Universe</th>\n",
       "      <td>0.192538</td>\n",
       "      <td>0.100000</td>\n",
       "      <td>0.000000</td>\n",
       "      <td>0.000000</td>\n",
       "      <td>1.000000</td>\n",
       "      <td>0.091287</td>\n",
       "      <td>0.000000</td>\n",
       "      <td>0.000000</td>\n",
       "      <td>0.000000</td>\n",
       "      <td>0.000000</td>\n",
       "      <td>...</td>\n",
       "      <td>0.138426</td>\n",
       "      <td>0.000000</td>\n",
       "      <td>0.116722</td>\n",
       "      <td>0.000000</td>\n",
       "      <td>0.075324</td>\n",
       "      <td>0.000000</td>\n",
       "      <td>0.000000</td>\n",
       "      <td>0.043437</td>\n",
       "      <td>0.000000</td>\n",
       "      <td>0.0</td>\n",
       "    </tr>\n",
       "  </tbody>\n",
       "</table>\n",
       "<p>5 rows × 97 columns</p>\n",
       "</div>"
      ],
      "text/plain": [
       "                                     A Day In The Life  A Hard Day's Night  \\\n",
       "A Day In The Life                             1.000000            0.246021   \n",
       "A Hard Day's Night                            0.246021            1.000000   \n",
       "A Saturday Club Xmas/Crimble Medley           0.067651            0.000000   \n",
       "ANYTIME AT ALL                                0.108483            0.000000   \n",
       "Across The Universe                           0.192538            0.100000   \n",
       "\n",
       "                                     A Saturday Club Xmas/Crimble Medley  \\\n",
       "A Day In The Life                                               0.067651   \n",
       "A Hard Day's Night                                              0.000000   \n",
       "A Saturday Club Xmas/Crimble Medley                             1.000000   \n",
       "ANYTIME AT ALL                                                  0.000000   \n",
       "Across The Universe                                             0.000000   \n",
       "\n",
       "                                     ANYTIME AT ALL  Across The Universe  \\\n",
       "A Day In The Life                          0.108483             0.192538   \n",
       "A Hard Day's Night                         0.000000             0.100000   \n",
       "A Saturday Club Xmas/Crimble Medley        0.000000             0.000000   \n",
       "ANYTIME AT ALL                             1.000000             0.000000   \n",
       "Across The Universe                        0.000000             1.000000   \n",
       "\n",
       "                                     All My Loving  All You Need Is Love  \\\n",
       "A Day In The Life                         0.341760              0.322896   \n",
       "A Hard Day's Night                        0.136931              0.111803   \n",
       "A Saturday Club Xmas/Crimble Medley       0.000000              0.000000   \n",
       "ANYTIME AT ALL                            0.154303              0.094491   \n",
       "Across The Universe                       0.091287              0.000000   \n",
       "\n",
       "                                     And Your Bird Can Sing   BAD BOY  \\\n",
       "A Day In The Life                                  0.138092  0.223237   \n",
       "A Hard Day's Night                                 0.000000  0.000000   \n",
       "A Saturday Club Xmas/Crimble Medley                0.000000  0.000000   \n",
       "ANYTIME AT ALL                                     0.109109  0.000000   \n",
       "Across The Universe                                0.000000  0.000000   \n",
       "\n",
       "                                     Baby You're A Rich Man  ...  \\\n",
       "A Day In The Life                                  0.175762  ...   \n",
       "A Hard Day's Night                                 0.091287  ...   \n",
       "A Saturday Club Xmas/Crimble Medley                0.000000  ...   \n",
       "ANYTIME AT ALL                                     0.000000  ...   \n",
       "Across The Universe                                0.000000  ...   \n",
       "\n",
       "                                     We Can Work It Out  When I'm 64  \\\n",
       "A Day In The Life                              0.462712     0.055237   \n",
       "A Hard Day's Night                             0.259548     0.129099   \n",
       "A Saturday Club Xmas/Crimble Medley            0.109435     0.000000   \n",
       "ANYTIME AT ALL                                 0.116991     0.000000   \n",
       "Across The Universe                            0.138426     0.000000   \n",
       "\n",
       "                                     While My Guitar Gently Weeps  \\\n",
       "A Day In The Life                                        0.509397   \n",
       "A Hard Day's Night                                       0.210099   \n",
       "A Saturday Club Xmas/Crimble Medley                      0.000000   \n",
       "ANYTIME AT ALL                                           0.138107   \n",
       "Across The Universe                                      0.116722   \n",
       "\n",
       "                                     Wild Honey Pie  \\\n",
       "A Day In The Life                          0.225503   \n",
       "A Hard Day's Night                         0.000000   \n",
       "A Saturday Club Xmas/Crimble Medley        0.166667   \n",
       "ANYTIME AT ALL                             0.089087   \n",
       "Across The Universe                        0.000000   \n",
       "\n",
       "                                     With a Little Help From My Friends  \\\n",
       "A Day In The Life                                              0.427027   \n",
       "A Hard Day's Night                                             0.112987   \n",
       "A Saturday Club Xmas/Crimble Medley                            0.000000   \n",
       "ANYTIME AT ALL                                                 0.190982   \n",
       "Across The Universe                                            0.075324   \n",
       "\n",
       "                                     YOUR MOTHER SHOULD KNOW  \\\n",
       "A Day In The Life                                   0.033826   \n",
       "A Hard Day's Night                                  0.000000   \n",
       "A Saturday Club Xmas/Crimble Medley                 0.000000   \n",
       "ANYTIME AT ALL                                      0.000000   \n",
       "Across The Universe                                 0.000000   \n",
       "\n",
       "                                     Yellow Submarine  Yesterday  \\\n",
       "A Day In The Life                            0.331593   0.339179   \n",
       "A Hard Day's Night                           0.050000   0.195468   \n",
       "A Saturday Club Xmas/Crimble Medley          0.000000   0.000000   \n",
       "ANYTIME AT ALL                               0.000000   0.146845   \n",
       "Across The Universe                          0.000000   0.043437   \n",
       "\n",
       "                                     You Never Give Me Your Money  \\\n",
       "A Day In The Life                                        0.079727   \n",
       "A Hard Day's Night                                       0.074536   \n",
       "A Saturday Club Xmas/Crimble Medley                      0.000000   \n",
       "ANYTIME AT ALL                                           0.000000   \n",
       "Across The Universe                                      0.000000   \n",
       "\n",
       "                                     You're Going To Lose That Girl  \n",
       "A Day In The Life                                               0.0  \n",
       "A Hard Day's Night                                              0.0  \n",
       "A Saturday Club Xmas/Crimble Medley                             0.0  \n",
       "ANYTIME AT ALL                                                  0.0  \n",
       "Across The Universe                                             0.0  \n",
       "\n",
       "[5 rows x 97 columns]"
      ]
     },
     "execution_count": 320,
     "metadata": {},
     "output_type": "execute_result"
    }
   ],
   "source": [
    "song_sim.head()"
   ]
  },
  {
   "cell_type": "code",
   "execution_count": 321,
   "metadata": {
    "scrolled": true
   },
   "outputs": [],
   "source": [
    "g = song_sim.iloc[0, :].sort_values(ascending = False)"
   ]
  },
  {
   "cell_type": "code",
   "execution_count": 322,
   "metadata": {},
   "outputs": [
    {
     "data": {
      "text/plain": [
       "array(['Revolution'], dtype=object)"
      ]
     },
     "execution_count": 322,
     "metadata": {},
     "output_type": "execute_result"
    }
   ],
   "source": [
    "g[1:2].index.values"
   ]
  },
  {
   "cell_type": "code",
   "execution_count": 353,
   "metadata": {},
   "outputs": [],
   "source": [
    "#function for finding next song\n",
    "\n",
    "def song_reco(song, top_n= 2):\n",
    "    g = song_sim.loc[song, :].sort_values(ascending = False)\n",
    "    g = g[1:top_n+1].index.values\n",
    "    return pd.Series(g, index = ['next_song#{}'.format(i+1) for i in range(top_n)])"
   ]
  },
  {
   "cell_type": "code",
   "execution_count": 323,
   "metadata": {},
   "outputs": [
    {
     "data": {
      "text/plain": [
       "Revolution                             1.000000\n",
       "Come Together                          0.680807\n",
       "Get Back                               0.660374\n",
       "While My Guitar Gently Weeps           0.632051\n",
       "Back In the U.S.S.R.                   0.617417\n",
       "                                         ...   \n",
       "A Saturday Club Xmas/Crimble Medley    0.066716\n",
       "LITTLE CHILD                           0.062901\n",
       "GIRL                                   0.047175\n",
       "THE CONTINUING STORY OF BUNG           0.044477\n",
       "You're Going To Lose That Girl         0.044477\n",
       "Name: Revolution, Length: 97, dtype: float64"
      ]
     },
     "execution_count": 323,
     "metadata": {},
     "output_type": "execute_result"
    }
   ],
   "source": [
    "song_sim.loc['Revolution', :].sort_values(ascending = False)"
   ]
  },
  {
   "cell_type": "code",
   "execution_count": 356,
   "metadata": {
    "scrolled": true
   },
   "outputs": [
    {
     "data": {
      "text/plain": [
       "next_song#1                   Come Together\n",
       "next_song#2                        Get Back\n",
       "next_song#3    While My Guitar Gently Weeps\n",
       "next_song#4            Back In the U.S.S.R.\n",
       "next_song#5               A Day In The Life\n",
       "dtype: object"
      ]
     },
     "execution_count": 356,
     "metadata": {},
     "output_type": "execute_result"
    }
   ],
   "source": [
    "g = song_reco('Revolution', 5)\n",
    "g"
   ]
  },
  {
   "cell_type": "markdown",
   "metadata": {},
   "source": [
    "#### How would you set up a test to check whether your model works well?\n",
    "\n",
    "We need to perform a A/B test:\n",
    "\n",
    "- randomly split users into two groups, one Control group and one Experiment group\n",
    "    - Control group has no recommendation strategy\n",
    "    - Experiment group recommend the next song\n",
    "    - after running some time, perform a one-tailed t-test on 'average #play per hour'\n",
    "- $H_0$: population 'average #play per hour' is same in two groups\n",
    "- $H_a$: experiment group's population 'average #play per hour' is higher than control group's"
   ]
  },
  {
   "cell_type": "code",
   "execution_count": null,
   "metadata": {},
   "outputs": [],
   "source": []
  }
 ],
 "metadata": {
  "kernelspec": {
   "display_name": "Python 3",
   "language": "python",
   "name": "python3"
  },
  "language_info": {
   "codemirror_mode": {
    "name": "ipython",
    "version": 3
   },
   "file_extension": ".py",
   "mimetype": "text/x-python",
   "name": "python",
   "nbconvert_exporter": "python",
   "pygments_lexer": "ipython3",
   "version": "3.8.5"
  }
 },
 "nbformat": 4,
 "nbformat_minor": 4
}
